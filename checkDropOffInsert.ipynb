{
 "cells": [
  {
   "cell_type": "markdown",
   "metadata": {},
   "source": [
    "# checkDropOffInsert\n",
    "Input: URID, busRun(which has been updated after checkPickupInsert), insertionPoint (which is an ETA)\n",
    "Output: new busRun schedule, which reflects the domino effect from both insertions (pickup and drop off) \n",
    "What it does: Looking only after the insertion point, tries to see if they can dropoff the new request in between two consecutive scheduled stops within the dropoff time window"
   ]
  },
  {
   "cell_type": "code",
   "execution_count": null,
   "metadata": {
    "collapsed": true
   },
   "outputs": [],
   "source": [
    "import numpy as np\n",
    "import pandas as pd"
   ]
  },
  {
   "cell_type": "code",
   "execution_count": null,
   "metadata": {
    "collapsed": true
   },
   "outputs": [],
   "source": [
    "#helper function to insert the pickup row into the busRun dataframe\n",
    "def insert_row(frame,new,row):\n",
    "    top = frame[0:row]\n",
    "    bottom = frame[row:]\n",
    "    return pd.concat((top,new,bottom))"
   ]
  },
  {
   "cell_type": "code",
   "execution_count": null,
   "metadata": {
    "collapsed": true
   },
   "outputs": [],
   "source": [
    "\n",
    "def checkDropOffInsert(URID, busRun, insertionPoint):\n",
    "    #code\n",
    "    #URID is a dictionary, and busRun is a dataframe, insertionPoint is an ETA\n",
    "    #Go through the busRun schedule, can I change this to just go through the correct ETAs and get rid of next if?\n",
    "    for i in range(0, busRun.shape[0]-1):\n",
    "        #only consider times after the pickup\n",
    "        busRunSub = busRun.loc[busRun.ETA > insertionPoint,:]\n",
    "        #only consider times within the drop off window\n",
    "        busRunSub = busRunSub[URID['timeWindowDropOffStart'] < busRun.ETA & busRun.ETA < URID['timeWindowDropOffEnd']]\n",
    "        if busRun.ETA.iloc[i] >insertionPoint:\n",
    "            #look to see if can get from sched location to dropoff point in allowed time window\n",
    "            allowedTime = busRun.ETA.iloc[i+1]-busRun.ETA.iloc[i]\n",
    "            #check with routing function API once made\n",
    "            timeToDropOff = getRoutingTime(busRun.Lat.iloc[i], busRun.Lon.iloc[i], URID['latDropoff'], URID['lonDropoff'])\n",
    "            timeToSched = getRoutingTime(URID['latDropoff'], URID['lonDropoff'], busRun.Lat.iloc[i+1], busRun.Lon.iloc[i+1])\n",
    "            totalTime = timeToDropOff + timeToSched\n",
    "            urETA = busRun.ETA.iloc[i]+timeToDropOff\n",
    "            if totalTime < allowedTime:\n",
    "                #try inserting \n",
    "                #busRun = SchedTime,ETA, Lat, Lon, BookingId/ClientId, SpaceOn, SpaceOff, Activity, MobiAidCode \n",
    "                urRow= pd.DataFrame(np.array[[ , urETA, URID['latDropoff'], URID['lonDropoff'], URID['ClientId'], , URID['capacityConstraint']\n",
    "                                             0, URID['MobiAidCode']]], columns=busRun.columns) #how do I put in NA for SpaceOff?\n",
    "                busRun = insert_row(busRun, urRow, i)\n",
    "            #need to reestimate all the ETAs after the dropOff point \n",
    "                \n",
    " \n",
    "    return \n"
   ]
  }
 ],
 "metadata": {
  "kernelspec": {
   "display_name": "Python 2",
   "language": "python",
   "name": "python2"
  },
  "language_info": {
   "codemirror_mode": {
    "name": "ipython",
    "version": 2
   },
   "file_extension": ".py",
   "mimetype": "text/x-python",
   "name": "python",
   "nbconvert_exporter": "python",
   "pygments_lexer": "ipython2",
   "version": "2.7.9"
  }
 },
 "nbformat": 4,
 "nbformat_minor": 0
}
