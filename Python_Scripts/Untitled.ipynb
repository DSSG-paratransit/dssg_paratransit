{
 "cells": [
  {
   "cell_type": "code",
   "execution_count": 14,
   "metadata": {
    "collapsed": false
   },
   "outputs": [
    {
     "name": "stdout",
     "output_type": "stream",
     "text": [
      "Query took 0.925203 seconds\n"
     ]
    }
   ],
   "source": [
    "import requests\n",
    "import pandas as pd\n",
    "import numpy as np\n",
    "import time\n",
    "\n",
    "data = pd.DataFrame.from_csv(\"/Users/fineiskid/Desktop/Access_Analysis_Rproject_local/data/UW_Trip_Data_QC.csv\")\n",
    "lats = np.array(data.LAT[0:100]); lons = np.array(data.LON[0:100])\n",
    "\n",
    "def dist_table_url(lats, lons):\n",
    "    #lats and lons can be vectors, for multiple stop locations\n",
    "    url = \"http://router.project-osrm.org/table?loc=\" + str(lats[0]) +\",\" + str(lons[0])\n",
    "    n = len(lats)\n",
    "    for ii in range(1,n):\n",
    "        url += \"&loc=\" +str(lats[ii]) + \",\" + str(lons[ii])\n",
    "    return(url)\n",
    "        \n",
    "def get_dist_table(url, n):\n",
    "    #url of osrm api call, n is number of verticies\n",
    "    out = requests.get(url)\n",
    "    output = out.text.encode('ascii', 'ignore')\n",
    "    mat = np.matrix(output[18:(len(output)-1)]).reshape([n,n])\n",
    "    return(mat)\n",
    "    \n",
    "t = time.time()\n",
    "out = get_dist_table(dist_table_url(lats, lons), len(lats))\n",
    "elapsed = time.time() - t\n",
    "print(\"Query took %f seconds\" % elapsed)"
   ]
  },
  {
   "cell_type": "code",
   "execution_count": 10,
   "metadata": {
    "collapsed": false
   },
   "outputs": [
    {
     "data": {
      "text/plain": [
       "(50, 50)"
      ]
     },
     "execution_count": 10,
     "metadata": {},
     "output_type": "execute_result"
    }
   ],
   "source": [
    "out.shape"
   ]
  },
  {
   "cell_type": "code",
   "execution_count": null,
   "metadata": {
    "collapsed": true
   },
   "outputs": [],
   "source": []
  }
 ],
 "metadata": {
  "kernelspec": {
   "display_name": "Python 2",
   "language": "python",
   "name": "python2"
  },
  "language_info": {
   "codemirror_mode": {
    "name": "ipython",
    "version": 2
   },
   "file_extension": ".py",
   "mimetype": "text/x-python",
   "name": "python",
   "nbconvert_exporter": "python",
   "pygments_lexer": "ipython2",
   "version": "2.7.9"
  }
 },
 "nbformat": 4,
 "nbformat_minor": 0
}
