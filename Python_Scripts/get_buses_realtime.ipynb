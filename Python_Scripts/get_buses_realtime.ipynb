{
 "cells": [
  {
   "cell_type": "code",
   "execution_count": 2,
   "metadata": {
    "collapsed": false
   },
   "outputs": [
    {
     "name": "stdout",
     "output_type": "stream",
     "text": [
      "/Users/fineiskid/Desktop/Access_Analysis_Rproject_local/data\n"
     ]
    }
   ],
   "source": [
    "import numpy as np\n",
    "import pandas as pd\n",
    "import itertools\n",
    "import operator\n",
    "from haversine import haversine\n",
    "import time\n",
    "\n",
    "#set cd to data folder with QC'ed rides\n",
    "% cd /Users/fineiskid/Desktop/Access_Analysis_Rproject_local/data/\n"
   ]
  },
  {
   "cell_type": "code",
   "execution_count": 3,
   "metadata": {
    "collapsed": false
   },
   "outputs": [],
   "source": [
    "data = pd.read_csv(\"single_clean_day.csv\")"
   ]
  },
  {
   "cell_type": "code",
   "execution_count": 4,
   "metadata": {
    "collapsed": false
   },
   "outputs": [],
   "source": [
    "data[\"ServiceDate\"] = pd.to_datetime(data[\"ServiceDate\"], format ='%Y-%m-%d %H:%M:%S', unit = \"D\")"
   ]
  },
  {
   "cell_type": "code",
   "execution_count": 5,
   "metadata": {
    "collapsed": true
   },
   "outputs": [],
   "source": [
    "def add_TimeWindows(data, windowsz):\n",
    "    '''calculate time windows (pickup and dropoff)\n",
    "        from SchTime and ETA.\n",
    "        data is subsetted schedule data from a day.\n",
    "        windowsz is size of pickup/dropoff window in seconds'''\n",
    "\n",
    "    etas = data[\"ETA\"]\n",
    "    schtime =data[\"SchTime\"]\n",
    "    schtime[schtime<0] = np.nan\n",
    "    data[\"PickupStart\"] = 0; data[\"PickupEnd\"] = 0\n",
    "    data[\"DropoffStart\"] = 0; data[\"DropoffEnd\"] = 0\n",
    "    for x in range(0, len(etas)):\n",
    "\n",
    "        #make dropoff window when there's no required drop off time\n",
    "        if (data[\"Activity\"].iloc[x] == 1) & (data[\"ReqLate\"].iloc[x] <0):\n",
    "            data[\"DropoffStart\"].iloc[x] = data[\"ETA\"].iloc[x]-3600\n",
    "            data[\"DropoffEnd\"].iloc[x] = data[\"ETA\"].iloc[x]+3600\n",
    "        \n",
    "        #make dropoff window when there IS a required drop off time: 1hr before ReqLate time\n",
    "        if (data[\"Activity\"].iloc[x] == 1) & (data[\"ReqLate\"].iloc[x] >0):\n",
    "            data[\"DropoffStart\"].iloc[x] = data[\"ETA\"].iloc[x]-3600\n",
    "            data[\"DropoffEnd\"].iloc[x] = data[\"ReqLate\"].iloc[x]  \n",
    "        \n",
    "        #schtime is in the middle of the pick up window\n",
    "        if data[\"Activity\"].iloc[x] == 0:\n",
    "            data[\"PickupStart\"].iloc[x] = schtime.iloc[x]-(windowsz/2)\n",
    "            data[\"PickupEnd\"].iloc[x] = schtime.iloc[x]+(windowsz/2)\n",
    "\n",
    "    return data"
   ]
  },
  {
   "cell_type": "code",
   "execution_count": 6,
   "metadata": {
    "collapsed": false
   },
   "outputs": [],
   "source": [
    "# SAVE SINGLE DAY'S RIDES WITH TIME WINDOWS\n",
    "data = add_TimeWindows(data, 60*30)\n",
    "\n",
    "from contextlib import contextmanager\n",
    "import sys, os\n",
    "\n",
    "@contextmanager\n",
    "def suppress_stdout():\n",
    "    with open(os.devnull, \"w\") as devnull:\n",
    "        old_stdout = sys.stdout\n",
    "        sys.stdout = devnull\n",
    "        try:  \n",
    "            yield\n",
    "        finally:\n",
    "            sys.stdout = old_stdout\n",
    "\n",
    "\n",
    "with suppress_stdout():\n",
    "    data.to_csv(path = \"/Users/fineiskid/Desktop/single_day_TimeWindows.csv\", index = False, quoting=None)"
   ]
  },
  {
   "cell_type": "code",
   "execution_count": 7,
   "metadata": {
    "collapsed": false
   },
   "outputs": [],
   "source": [
    "def get_URIDs(data, broken_Run, resched_init_time):\n",
    "    '''get unscheduled request id's from broken bus,\n",
    "        based on when we're allowed to first start rescheduling.\n",
    "        resched_init_time is in seconds, marks the point in time we can begin considering reinserting new requests.\n",
    "        broken_Run is number of run that breaks\n",
    "        data is today's scheduling data\n",
    "\n",
    "        RETURN: list of URIDs'''\n",
    "    \n",
    "    #all rides that exist past time we're allowed to begin rescheduling\n",
    "    leftover = data[data[\"ETA\"] >= resched_init_time]\n",
    "    leftover = leftover[(leftover[\"Activity\"] != 6) & (leftover[\"Activity\"] != 16) & (leftover[\"Activity\"] != 3)]\n",
    "    \n",
    "    #rides that were scheduled to be on broken bus past resched_init_time\n",
    "    pickmeup = leftover[leftover[\"Run\"]==broken_Run]\n",
    "    clients = pickmeup[\"ClientId\"].unique()\n",
    "    clients = clients[~(np.isnan(clients))]\n",
    "    rmClients = []\n",
    "    \n",
    "    #remove people who would were scheduled to be on bus before resched_init_time\n",
    "    for cli in clients:\n",
    "        onoff = pickmeup[pickmeup[\"ClientId\"]==cli]\n",
    "        if onoff.shape[0] == 1:\n",
    "            rmClients.append(cli)\n",
    "    unsched = pickmeup[~pickmeup[\"ClientId\"].isin(rmClients)]\n",
    "\n",
    "    print(\"There are %s rides left to be scheduled on broken run %s\" % (unsched.shape[0], broken_Run))\n",
    "\n",
    "    class URID:\n",
    "        def __init__(self, BookingId, Run, PickUpCoords, DropOffCoords, PickupStart, PickupEnd, DropoffStart, DropoffEnd, SpaceOn, MobAids):\n",
    "            self.BookingId= BookingId\n",
    "            self.Run = Run\n",
    "            self.PickUpCoords = PickUpCoords\n",
    "            self.DropOffCoords = DropOffCoords\n",
    "            self.PickupStart = PickupStart\n",
    "            self.PickupEnd = PickupEnd\n",
    "            self.DropoffStart = DropoffStart\n",
    "            self.DropoffEnd = DropoffEnd\n",
    "            self.SpaceOn = SpaceOn\n",
    "            self.MobAids = MobAids\n",
    "\n",
    "\n",
    "    diffIDs = unsched.BookingId.unique()\n",
    "    saveme = []\n",
    "\n",
    "    #save separate URID's in a list\n",
    "    for ID in diffIDs:\n",
    "        temp = URID(BookingId = ID,\n",
    "            Run = broken_Run,\n",
    "            PickUpCoords = unsched[unsched[\"BookingId\"]==unsched.BookingId.iloc[0]][[\"LAT\", \"LON\"]].iloc[0,],\n",
    "            DropOffCoords = unsched[unsched[\"BookingId\"]==unsched.BookingId.iloc[0]][[\"LAT\", \"LON\"]].iloc[1,],\n",
    "            PickupStart = unsched[unsched[\"BookingId\"]==unsched.BookingId.iloc[0]][[\"PickupStart\"]].iloc[0,],\n",
    "            PickupEnd = unsched[unsched[\"BookingId\"]==unsched.BookingId.iloc[0]][[\"PickupEnd\"]].iloc[0,],\n",
    "            DropoffStart = unsched[unsched[\"BookingId\"]==unsched.BookingId.iloc[0]][[\"DropoffStart\"]].iloc[0,],\n",
    "            DropoffEnd = unsched[unsched[\"BookingId\"]==unsched.BookingId.iloc[0]][[\"DropoffEnd\"]].iloc[0,],\n",
    "            SpaceOn = unsched[unsched[\"BookingId\"]==unsched.BookingId.iloc[0]][[\"SpaceOn\"]].iloc[0,],\n",
    "            MobAids = unsched[unsched[\"BookingId\"]==unsched.BookingId.iloc[0]][[\"MobAids\"]].iloc[0,])\n",
    "        saveme.append(temp)\n",
    "\n",
    "    return saveme"
   ]
  },
  {
   "cell_type": "code",
   "execution_count": 8,
   "metadata": {
    "collapsed": false
   },
   "outputs": [
    {
     "name": "stdout",
     "output_type": "stream",
     "text": [
      "There are 10 rides left to be scheduled on broken run 680SEB\n"
     ]
    }
   ],
   "source": [
    "broken_Run = data.Run.unique()[0]\n",
    "resched_init_time = 14*60*60\n",
    "urids = get_URIDs(data, broken_Run, resched_init_time)"
   ]
  },
  {
   "cell_type": "code",
   "execution_count": 9,
   "metadata": {
    "collapsed": false
   },
   "outputs": [],
   "source": [
    "def get_busRuns(data, Run, resched_init_time):\n",
    "    ''' take pd.DataFrame from add_Time_Windows.py and create busRun object for specified Run number,\n",
    "    for all stops occurring at or after resched_init_time.\n",
    "\n",
    "    RETURN: busRun object for specified Run.'''\n",
    "\n",
    "    #subset based on matching Run number, and subset for stops only at or after resched_init_time\n",
    "    print(\"Getting remaing rides for run %s\" % Run)\n",
    "    dataSub = data[(data[\"Run\"] == Run)] # & (data[\"ETA\"] >= resched_init_time)]\n",
    "    #subset only the rides that aren't 6, 16, or 3:\n",
    "    leave = dataSub.index.min()\n",
    "    gas = dataSub[(dataSub[\"Activity\"]==6)|(dataSub[\"Activity\"]==16)|(dataSub[\"Activity\"]==3)].index.min()\n",
    "    busRun = dataSub.loc[leave:(gas-1)]\n",
    "\n",
    "    return busRun"
   ]
  },
  {
   "cell_type": "code",
   "execution_count": 10,
   "metadata": {
    "collapsed": false
   },
   "outputs": [
    {
     "data": {
      "text/plain": [
       "['PickupEnd',\n",
       " 'Run',\n",
       " 'BookingId',\n",
       " 'MobAids',\n",
       " 'DropoffStart',\n",
       " 'DropoffEnd',\n",
       " 'PickUpCoords',\n",
       " 'SpaceOn',\n",
       " 'DropOffCoords',\n",
       " 'PickupStart']"
      ]
     },
     "execution_count": 10,
     "metadata": {},
     "output_type": "execute_result"
    }
   ],
   "source": [
    "#list urid attributes:\n",
    "URID = urids[0]\n",
    "urids[0].__dict__.keys()"
   ]
  },
  {
   "cell_type": "code",
   "execution_count": 11,
   "metadata": {
    "collapsed": false
   },
   "outputs": [],
   "source": [
    "#Find windows that overlap \n",
    "def time_overlap(Run_Schedule, URID, pickUpDropOff = True):\n",
    "    '''URID: of class URID, has bookingId, pickUpLocation, dropOffLocation, etc.\n",
    "        Run_Schedule: Schedule (pd.Data.Frame) of the run on which we're trying to insert the URID\n",
    "        RETURN: dictionary containing indices of schedule-outbound and -inbound nodes that we need\n",
    "        to get distance between w/r/t URID location.'''\n",
    "\n",
    "    #How it works: first, find all nodes that have time overlap with the URID's (pickup or dropoff) window\n",
    "    # second, notice any gaps in the order of these nodes from the original bus ride.\n",
    "    # For the first chunk of overlapping nodes, add the lower-time bound node in, given that the first node\n",
    "    # even exists in the Run_Schedule.\n",
    "    # For every chunk of contiguous overlap nodes, add in the upper-time bound node, because there can potentially\n",
    "    # be an inbound ride from the URID node to the upper-time bound node. There can't be an outbound ride.\n",
    "\n",
    "    if pickUpDropOff:\n",
    "        Start = URID.PickupStart[0]\n",
    "        End = URID.PickupEnd[0]\n",
    "    else:\n",
    "        Start = URID.DropoffStart[0]\n",
    "        End = URID.DropoffEnd[0]\n",
    "        \n",
    "    crossover = []\n",
    "    \n",
    "    for jj in range(Run_Schedule.shape[0]):\n",
    "        #Checking if a Run's PickupWindow overlaps with URID's Window.\n",
    "        if Run_Schedule.Activity.iloc[jj] == 0:\n",
    "            PUE = Run_Schedule.PickupEnd.iloc[jj]; PUS = Run_Schedule.PickupStart.iloc[jj]\n",
    "            #simple, unequal overlap\n",
    "            if (PUE > Start) & (PUS < End):\n",
    "                crossover.append(Run_Schedule.index[jj])\n",
    "            # equal or strictly within [PUS, PUE]\n",
    "            if (PUE <= End) & (PUS >= Start):\n",
    "                crossover.append(Run_Schedule.index[jj])\n",
    "            # [Start, End] completely covered by [PUS, PUE] and then some on both sides\n",
    "            if (PUE > End) & (PUS < Start):\n",
    "                crossover.append(Run_Schedule.index[jj])\n",
    "            # [Start, End] completely covered and then some only on left side\n",
    "            if (PUE == End) & (PUS < Start):\n",
    "                crossover.append(Run_Schedule.index[jj])\n",
    "            # [Start, End] completely covered and then some only on right side\n",
    "            if (PUS == Start) & (PUE > End):\n",
    "                crossover.append(Run_Schedule.index[jj])\n",
    "                \n",
    "        #Checking if a Run's DropoffWindow overlaps with URID's Window.\n",
    "        if Run_Schedule.Activity.iloc[jj] == 1:\n",
    "            DOE = Run_Schedule.DropoffEnd.iloc[jj]; DOS = Run_Schedule.DropoffStart.iloc[jj]\n",
    "            if (DOE > Start) & (DOS < End):\n",
    "                crossover.append(Run_Schedule.index[jj])\n",
    "            if (DOE <= End) & (DOS >= Start):\n",
    "                crossover.append(Run_Schedule.index[jj])\n",
    "            if (DOE > End) & (DOS < Start):\n",
    "                crossover.append(Run_Schedule.index[jj])\n",
    "            if (DOE == End) & (DOS < Start):\n",
    "                crossover.append(Run_Schedule.index[jj])\n",
    "            if (DOS == Start) & (DOE > End):\n",
    "                crossover.append(Run_Schedule.index[jj])\n",
    "                \n",
    "    #Get rid of cases that repeat themselves:\n",
    "    crossover = list(set(crossover))\n",
    "    \n",
    "    inserts = Run_Schedule.loc[crossover]; indices = Run_Schedule.index\n",
    "    lst = []; outbound = []; inbound = []\n",
    "    #Lists of continuously arranged nodes with overlap\n",
    "    for k, g in itertools.groupby(enumerate(inserts.index), lambda (i,x):i-x):\n",
    "        k = map(operator.itemgetter(1), g)\n",
    "        #save upper/lower bound where appropriate\n",
    "        lst += [min(k)]; lst+=[max(k)]\n",
    "        if len(lst) == 2:\n",
    "            outbound += k; inbound +=k\n",
    "            if lst[0] != min(indices):\n",
    "                outbound.append(lst[0]-1) #we have a lower bound node, heading outbound from Run_Schedule\n",
    "            else:\n",
    "                inbound.pop(0) #if first node is leave garage, can't add lower bound\n",
    "        else:\n",
    "            outbound += k\n",
    "            inbound +=k[1:len(k)]\n",
    "        \n",
    "        inbound.append(lst[-1]+1) #upper bound node for first contiguous set of overlap nodes\n",
    "    \n",
    "    outbound, inbound = map(sorted, [outbound, inbound])\n",
    "    all_nodes = sorted(np.union1d(outbound, inbound))\n",
    "    print(\"Need to service URID within %s sec to %s sec\" % (Start, End))\n",
    "    print(\"...%s nodes fall within this criteria.\" % len(all_nodes))\n",
    "    #print(\"These indices of Run_Schedule will need to have distances calculated:\\n%s\" % np.union1d(outbound, inbound))\n",
    "\n",
    "    retDict = {\"outbound\": outbound, \"inbound\": inbound, \"all_nodes\" : all_nodes}\n",
    "    return retDict"
   ]
  },
  {
   "cell_type": "code",
   "execution_count": 12,
   "metadata": {
    "collapsed": false
   },
   "outputs": [],
   "source": [
    "#print distances that bus 181SEB is from URID location during time windows... It's pretty far...\n",
    "def radius_Elimination(data, URID, radius, pickUpDropOff):\n",
    "    '''Given a set of the day's bus data and an unhandled requst,\n",
    "    eliminate all bus routes that are farther than radius-miles away at all\n",
    "        points in the URID's pickup or dropoff window, the window being specified\n",
    "        by pickUpDropOff. Run time_insertions.py on the resultant list.\n",
    "\n",
    "        NOTE: you need to \"> pip install haversine\"\n",
    "\n",
    "        INPUT:  data - pd.Data.Frame returned from add_TimeWindows.py\n",
    "                URID - URID object from get_URIDS.py\t\n",
    "                radius - float, number of miles\n",
    "                pickUpDropOff - boolean True/False for PickUp (True) or Dropoff (False)\n",
    "\n",
    "        RETURN: LIST of runs within radius-miles of URID.'''\n",
    "\n",
    "    #obviously, broken bus can't be in the list of nearby buses.\n",
    "    data = data[data.Run != URID.Run]\n",
    "\n",
    "    if pickUpDropOff:\n",
    "        URID_loc = ([URID.PickUpCoords[\"LAT\"], URID.PickUpCoords[\"LON\"]])\n",
    "    else:\n",
    "        URID_loc = ([URID.DropOffCoords[\"LAT\"], URID.PickUpCoords[\"LON\"]])\n",
    "        \n",
    "    #get pd.Data.Frame of nodes that have overlap with URID's pickup or dropoff window\n",
    "    overlap_data = time_overlap(data, URID, pickUpDropOff)\n",
    "\n",
    "    #get row index of nodes that may have either inbound/outbound overlap with URID TW.\n",
    "    overlap_data = data.loc[overlap_data['all_nodes']]\n",
    "    overlap_LAT = overlap_data.LAT.tolist()\n",
    "    overlap_LON = overlap_data.LON.tolist()\n",
    "\n",
    "    #store list of rides that are sufficiently nearby URID's location\n",
    "    okBuses = []\n",
    "    for k in range(len(overlap_LAT)):\n",
    "        point = (overlap_LAT[k], overlap_LON[k])\n",
    "        dist = haversine(point, URID_loc, miles=True)\n",
    "        if(dist < radius):\n",
    "            okBuses.append(overlap_data.Run.iloc[k])\n",
    "\n",
    "    return list(set(okBuses))"
   ]
  },
  {
   "cell_type": "code",
   "execution_count": 13,
   "metadata": {
    "collapsed": false,
    "scrolled": false
   },
   "outputs": [
    {
     "name": "stdout",
     "output_type": "stream",
     "text": [
      "Need to service URID within 51300.0 sec to 53100.0 sec\n",
      "...1207 nodes fall within this criteria.\n",
      "At 1:30 PM, there are 36 buses within 4 miles that have nodes that overlap with URID.\n",
      "Getting remaing rides for run 483SEB\n"
     ]
    }
   ],
   "source": [
    "radius =  4#miles cutoff\n",
    "\n",
    "#list of buses to plug URID onto:\n",
    "good_buses = radius_Elimination(data, URID, radius, True)\n",
    "print(\"At 1:30 PM, there are %s buses within %s miles that have nodes that overlap with URID.\" %\n",
    "      (len(good_buses), radius))\n",
    "\n",
    "#Test get_busRuns subsetting routine\n",
    "testRun = good_buses[20]\n",
    "#Bus 335: try inserting URID on to here.\n",
    "Run_Schedule = get_busRuns(data, testRun, resched_init_time)"
   ]
  },
  {
   "cell_type": "code",
   "execution_count": 34,
   "metadata": {
    "collapsed": false
   },
   "outputs": [],
   "source": [
    "#Get distances between (insertable nodes, URID location)\n",
    "import requests\n",
    "def osrm (URID_location, inbound, outbound):\n",
    "    #URID_location it's a list: [lat, lon]\n",
    "    #lists for inbound and outbound matrices\n",
    "    # inbound/outbound: 2-column np.arrays storing inbound/outbound node latitude/longitude\n",
    "    # and inbound (from scheduled location to urid location) \n",
    "    out_total_time = []\n",
    "    out_start_points = []\n",
    "    out_end_points = []\n",
    "    in_total_time = []\n",
    "    in_start_points = []\n",
    "    in_end_points = []\n",
    "    out_osrm_url = \"http://router.project-osrm.org/viaroute?\"\n",
    "    in_osrm_url = \"http://router.project-osrm.org/viaroute?\"\n",
    "    urid_LAT = URID_location[0]; urid_LON = URID_location[1]\n",
    "\n",
    "    # outbound\n",
    "    for lat_cord,lon_cord in outbound: \n",
    "        out_route_url = out_osrm_url+ \"loc=\" + str(lat_cord) + \",\" + str(lon_cord)\n",
    "        out_route_url = out_route_url + \"&loc=\" + str(urid_LAT) + \",\" + str(urid_LON) + \"&instructions=false\"\n",
    "        out_route_requests = requests.get(out_route_url)\n",
    "        out_route_results = out_route_requests.json()\n",
    "        out_total_time += [out_route_results[u'route_summary'][u'total_time']]\n",
    "        out_start_points += [out_route_results[u'route_summary'][u'start_point']]\n",
    "        out_end_points += [out_route_results[u'route_summary'][u'end_point']]\n",
    "\n",
    "    # inbound\n",
    "    for lat_cord,lon_cord in inbound: \n",
    "        in_route_url = in_osrm_url + \"loc=\" + str(urid_LAT) + \",\" + str(urid_LON) \n",
    "        in_route_url = in_route_url+ \"&loc=\" + str(lat_cord) + \",\" + str(lon_cord) + \"&instructions=false\"\n",
    "        in_route_requests = requests.get(in_route_url)\n",
    "        in_route_results = in_route_requests.json()\n",
    "        in_total_time += [in_route_results[u'route_summary'][u'total_time']]\n",
    "        in_start_points += [in_route_results[u'route_summary'][u'start_point']]\n",
    "        in_end_points += [in_route_results[u'route_summary'][u'end_point']]\n",
    "\n",
    "    a = np.array([in_total_time]); b = np.array([out_total_time])\n",
    " \n",
    "    return(np.hstack((a.T, b.T)))\n"
   ]
  },
  {
   "cell_type": "code",
   "execution_count": 35,
   "metadata": {
    "collapsed": false
   },
   "outputs": [
    {
     "name": "stdout",
     "output_type": "stream",
     "text": [
      "Need to service URID within 51300.0 sec to 53100.0 sec\n",
      "...6 nodes fall within this criteria.\n",
      "API call took 0.043946 sec\n"
     ]
    }
   ],
   "source": [
    "#Time the travel time matrix function:\n",
    "\n",
    "#formulate URID's location:\n",
    "uridLoc = [URID.PickUpCoords[0], URID.PickUpCoords[1]]\n",
    "\n",
    "#Get nodes from 181SEB bus that overlap with URID\n",
    "pickUpDropOff = True; URID = urids[0];\n",
    "\n",
    "#formulate inbound nodes and outbound nodes, for input into OSRM!!!\n",
    "inserts = time_overlap(Run_Schedule, URID, pickUpDropOff)\n",
    "outbound = Run_Schedule.loc[inserts[\"outbound\"]]\n",
    "outbound = np.column_stack((np.array(outbound.LAT), np.array(outbound.LON))) #GODDAMNIT THAT WAS COMPLICATED\n",
    "inbound = Run_Schedule.loc[inserts[\"inbound\"]]\n",
    "inbound = np.column_stack((np.array(inbound.LAT), np.array(inbound.LON)))\n",
    "\n",
    "#print(\"inbound nodes: %s\" % inbound)\n",
    "#print(\"outbound nodes: %s\" % outbound)\n",
    "\n",
    "start = time.clock()\n",
    "time_matrix = osrm(uridLoc, inbound, outbound)\n",
    "elapsed = time.clock()-start\n",
    "print(\"API call took %s sec\" % elapsed)"
   ]
  },
  {
   "cell_type": "code",
   "execution_count": 37,
   "metadata": {
    "collapsed": false
   },
   "outputs": [
    {
     "name": "stdout",
     "output_type": "stream",
     "text": [
      "[[1090 1148]\n",
      " [ 402 1112]\n",
      " [1731  865]\n",
      " [1479 1741]]\n"
     ]
    },
    {
     "data": {
      "text/html": [
       "<div style=\"max-height:1000px;max-width:1500px;overflow:auto;\">\n",
       "<table border=\"1\" class=\"dataframe\">\n",
       "  <thead>\n",
       "    <tr style=\"text-align: right;\">\n",
       "      <th></th>\n",
       "      <th>ServiceDate</th>\n",
       "      <th>Run</th>\n",
       "      <th>ProviderId</th>\n",
       "      <th>EvOrder</th>\n",
       "      <th>EvId</th>\n",
       "      <th>ReqTime</th>\n",
       "      <th>SchTime</th>\n",
       "      <th>ReqLate</th>\n",
       "      <th>Activity</th>\n",
       "      <th>ETA</th>\n",
       "      <th>...</th>\n",
       "      <th>PassOn</th>\n",
       "      <th>SpaceOn</th>\n",
       "      <th>PassOff</th>\n",
       "      <th>SpaceOff</th>\n",
       "      <th>ClientId</th>\n",
       "      <th>MobAids</th>\n",
       "      <th>PickupStart</th>\n",
       "      <th>PickupEnd</th>\n",
       "      <th>DropoffStart</th>\n",
       "      <th>DropoffEnd</th>\n",
       "    </tr>\n",
       "  </thead>\n",
       "  <tbody>\n",
       "    <tr>\n",
       "      <th>183</th>\n",
       "      <td>2014-04-14</td>\n",
       "      <td> 483SEB</td>\n",
       "      <td> 5</td>\n",
       "      <td> 56367164</td>\n",
       "      <td> 16660</td>\n",
       "      <td> 49140</td>\n",
       "      <td> 49140</td>\n",
       "      <td>    -1</td>\n",
       "      <td> 0</td>\n",
       "      <td> 49169</td>\n",
       "      <td>...</td>\n",
       "      <td>      CLI1</td>\n",
       "      <td>     WX1</td>\n",
       "      <td>       NaN</td>\n",
       "      <td>     NaN</td>\n",
       "      <td> 121290</td>\n",
       "      <td>       LI</td>\n",
       "      <td> 48240</td>\n",
       "      <td> 50040</td>\n",
       "      <td>     0</td>\n",
       "      <td>     0</td>\n",
       "    </tr>\n",
       "    <tr>\n",
       "      <th>184</th>\n",
       "      <td>2014-04-14</td>\n",
       "      <td> 483SEB</td>\n",
       "      <td> 5</td>\n",
       "      <td> 57773481</td>\n",
       "      <td> 16652</td>\n",
       "      <td>    -1</td>\n",
       "      <td>   NaN</td>\n",
       "      <td> 52200</td>\n",
       "      <td> 1</td>\n",
       "      <td> 49741</td>\n",
       "      <td>...</td>\n",
       "      <td>       NaN</td>\n",
       "      <td>     NaN</td>\n",
       "      <td>      CLI1</td>\n",
       "      <td>     WX1</td>\n",
       "      <td> 121290</td>\n",
       "      <td>       LI</td>\n",
       "      <td>     0</td>\n",
       "      <td>     0</td>\n",
       "      <td> 46141</td>\n",
       "      <td> 52200</td>\n",
       "    </tr>\n",
       "    <tr>\n",
       "      <th>185</th>\n",
       "      <td>2014-04-14</td>\n",
       "      <td> 483SEB</td>\n",
       "      <td> 5</td>\n",
       "      <td> 60937498</td>\n",
       "      <td> 19289</td>\n",
       "      <td> 50400</td>\n",
       "      <td> 50400</td>\n",
       "      <td>    -1</td>\n",
       "      <td> 0</td>\n",
       "      <td> 51291</td>\n",
       "      <td>...</td>\n",
       "      <td>      CLI1</td>\n",
       "      <td>     WG1</td>\n",
       "      <td>       NaN</td>\n",
       "      <td>     NaN</td>\n",
       "      <td>  94123</td>\n",
       "      <td> AP,LI,WA</td>\n",
       "      <td> 49500</td>\n",
       "      <td> 51300</td>\n",
       "      <td>     0</td>\n",
       "      <td>     0</td>\n",
       "    </tr>\n",
       "    <tr>\n",
       "      <th>186</th>\n",
       "      <td>2014-04-14</td>\n",
       "      <td> 483SEB</td>\n",
       "      <td> 5</td>\n",
       "      <td> 63641802</td>\n",
       "      <td>  8100</td>\n",
       "      <td> 53100</td>\n",
       "      <td> 53100</td>\n",
       "      <td>    -1</td>\n",
       "      <td> 0</td>\n",
       "      <td> 52857</td>\n",
       "      <td>...</td>\n",
       "      <td> CLI1,PCA1</td>\n",
       "      <td> AM1,WX1</td>\n",
       "      <td>       NaN</td>\n",
       "      <td>     NaN</td>\n",
       "      <td>  20588</td>\n",
       "      <td>       AP</td>\n",
       "      <td> 52200</td>\n",
       "      <td> 54000</td>\n",
       "      <td>     0</td>\n",
       "      <td>     0</td>\n",
       "    </tr>\n",
       "    <tr>\n",
       "      <th>187</th>\n",
       "      <td>2014-04-14</td>\n",
       "      <td> 483SEB</td>\n",
       "      <td> 5</td>\n",
       "      <td> 64453102</td>\n",
       "      <td> 19265</td>\n",
       "      <td>    -1</td>\n",
       "      <td>   NaN</td>\n",
       "      <td> 58500</td>\n",
       "      <td> 1</td>\n",
       "      <td> 55590</td>\n",
       "      <td>...</td>\n",
       "      <td>       NaN</td>\n",
       "      <td>     NaN</td>\n",
       "      <td>      CLI1</td>\n",
       "      <td>     WG1</td>\n",
       "      <td>  94123</td>\n",
       "      <td> AP,LI,WA</td>\n",
       "      <td>     0</td>\n",
       "      <td>     0</td>\n",
       "      <td> 51990</td>\n",
       "      <td> 58500</td>\n",
       "    </tr>\n",
       "    <tr>\n",
       "      <th>188</th>\n",
       "      <td>2014-04-14</td>\n",
       "      <td> 483SEB</td>\n",
       "      <td> 5</td>\n",
       "      <td> 67346504</td>\n",
       "      <td>  8101</td>\n",
       "      <td>    -1</td>\n",
       "      <td>   NaN</td>\n",
       "      <td>    -1</td>\n",
       "      <td> 1</td>\n",
       "      <td> 56739</td>\n",
       "      <td>...</td>\n",
       "      <td>       NaN</td>\n",
       "      <td>     NaN</td>\n",
       "      <td> CLI1,PCA1</td>\n",
       "      <td> AM1,WX1</td>\n",
       "      <td>  20588</td>\n",
       "      <td>       AP</td>\n",
       "      <td>     0</td>\n",
       "      <td>     0</td>\n",
       "      <td> 53139</td>\n",
       "      <td> 60339</td>\n",
       "    </tr>\n",
       "  </tbody>\n",
       "</table>\n",
       "<p>6 rows × 30 columns</p>\n",
       "</div>"
      ],
      "text/plain": [
       "    ServiceDate     Run  ProviderId   EvOrder   EvId  ReqTime  SchTime  \\\n",
       "183  2014-04-14  483SEB           5  56367164  16660    49140    49140   \n",
       "184  2014-04-14  483SEB           5  57773481  16652       -1      NaN   \n",
       "185  2014-04-14  483SEB           5  60937498  19289    50400    50400   \n",
       "186  2014-04-14  483SEB           5  63641802   8100    53100    53100   \n",
       "187  2014-04-14  483SEB           5  64453102  19265       -1      NaN   \n",
       "188  2014-04-14  483SEB           5  67346504   8101       -1      NaN   \n",
       "\n",
       "     ReqLate  Activity    ETA  ...       PassOn  SpaceOn    PassOff SpaceOff  \\\n",
       "183       -1         0  49169  ...         CLI1      WX1        NaN      NaN   \n",
       "184    52200         1  49741  ...          NaN      NaN       CLI1      WX1   \n",
       "185       -1         0  51291  ...         CLI1      WG1        NaN      NaN   \n",
       "186       -1         0  52857  ...    CLI1,PCA1  AM1,WX1        NaN      NaN   \n",
       "187    58500         1  55590  ...          NaN      NaN       CLI1      WG1   \n",
       "188       -1         1  56739  ...          NaN      NaN  CLI1,PCA1  AM1,WX1   \n",
       "\n",
       "     ClientId   MobAids  PickupStart  PickupEnd DropoffStart  DropoffEnd  \n",
       "183    121290        LI        48240      50040            0           0  \n",
       "184    121290        LI            0          0        46141       52200  \n",
       "185     94123  AP,LI,WA        49500      51300            0           0  \n",
       "186     20588        AP        52200      54000            0           0  \n",
       "187     94123  AP,LI,WA            0          0        51990       58500  \n",
       "188     20588        AP            0          0        53139       60339  \n",
       "\n",
       "[6 rows x 30 columns]"
      ]
     },
     "execution_count": 37,
     "metadata": {},
     "output_type": "execute_result"
    }
   ],
   "source": [
    "#We now have travel times for the inbound, outbound insertions!\n",
    "print(time_matrix)\n",
    "Run_Schedule.loc[inserts[\"all_nodes\"]]"
   ]
  },
  {
   "cell_type": "markdown",
   "metadata": {
    "collapsed": true
   },
   "source": [
    "###Cool, now we have everything we need to start checking (pick-up) feasibility:\n",
    "1. We have ``good_buses``: list of buses within radius that have stops overlapping with the URID's time window. Don't worry, the broken bus isn't on this list.\n",
    "\n",
    "2. We have ``Run_Schedule``: a Pandas dataframe that has all stops relevant to squeezing in URID.\n",
    "\n",
    "3. We have ``inserts``: dictionary with insertion nodes on the scheduled buses that have overlapping time windows.\n",
    "\n",
    "4. We have ``outbound_times`` and ``inbound_times``: matrices travel times between the chosen scheduled bus's insertion nodes and the URID's location.\n"
   ]
  },
  {
   "cell_type": "markdown",
   "metadata": {
    "collapsed": true
   },
   "source": [
    "###Feasibility checking: insert URID into run, find shortest additional time added. Also, find number of time windows broken by each insertion.\n",
    "\n",
    "######Also: remember that len(inbound) and len(outbound) should be equal!"
   ]
  },
  {
   "cell_type": "code",
   "execution_count": 73,
   "metadata": {
    "collapsed": false
   },
   "outputs": [
    {
     "name": "stdout",
     "output_type": "stream",
     "text": [
      "[[1090 1148]\n",
      " [ 402 1112]\n",
      " [1731  865]\n",
      " [1479 1741]]\n",
      "[(1, 1514), (0, 2238), (2, 2596), (3, 3220)]\n",
      "True\n",
      "(51755, 52200, 33)\n"
     ]
    }
   ],
   "source": [
    "#necesssary? Why not just get rowSums of time_matrix?\n",
    "#print(time_matrix)\n",
    "#sorted row sums of travel times, represents round trip times:\n",
    "rt_times = sorted(enumerate(np.sum(time_matrix, 1)), key=operator.itemgetter(1)) #use itemgetter(1) because (0) is index from enumerator!\n",
    "print(rt_times)\n",
    "\n",
    "#smallest round trip travel time, corresponding rows on bus's schedule:\n",
    "best_rt_time = rt_times[0][1]\n",
    "#rows on Run_Schedule between which to insert:\n",
    "best_nodes = (inserts[\"outbound\"][rt_times[0][0]], inserts[\"inbound\"][rt_times[0][0]])\n",
    "\n",
    "dwell = 500\n",
    "\n",
    "#get total lag time, see if next time window is broken:\n",
    "newETA = Run_Schedule.ETA.loc[best_nodes[0]] + dwell + best_rt_time\n",
    "bound = max(Run_Schedule.PickupEnd.loc[inserts[\"all_nodes\"][1]], Run_Schedule.DropoffEnd.loc[inserts[\"all_nodes\"][1]])\n",
    "print(newETA < bound)\n",
    "bound - newETA\n",
    "lag = newETA - Run_Schedule.ETA.loc[inserts[\"all_nodes\"][1]]\n",
    "print(newETA, bound, lag/60)"
   ]
  },
  {
   "cell_type": "code",
   "execution_count": 74,
   "metadata": {
    "collapsed": false
   },
   "outputs": [
    {
     "data": {
      "text/plain": [
       "(184, 185)"
      ]
     },
     "execution_count": 74,
     "metadata": {},
     "output_type": "execute_result"
    }
   ],
   "source": [
    "#NOW, count the number of broken time windows caused by inserting URID where we did:"
   ]
  },
  {
   "cell_type": "code",
   "execution_count": null,
   "metadata": {
    "collapsed": true
   },
   "outputs": [],
   "source": []
  }
 ],
 "metadata": {
  "kernelspec": {
   "display_name": "Python 2",
   "language": "python",
   "name": "python2"
  },
  "language_info": {
   "codemirror_mode": {
    "name": "ipython",
    "version": 2
   },
   "file_extension": ".py",
   "mimetype": "text/x-python",
   "name": "python",
   "nbconvert_exporter": "python",
   "pygments_lexer": "ipython2",
   "version": "2.7.9"
  }
 },
 "nbformat": 4,
 "nbformat_minor": 0
}
