{
 "cells": [
  {
   "cell_type": "code",
   "execution_count": 1,
   "metadata": {
    "collapsed": false
   },
   "outputs": [
    {
     "name": "stdout",
     "output_type": "stream",
     "text": [
      "/Users/fineiskid/Desktop/Access_Analysis_Rproject_local/data\n"
     ]
    }
   ],
   "source": [
    "import numpy as np\n",
    "import pandas as pd\n",
    "\n",
    "#set cd to data folder with QC'ed rides\n",
    "% cd /Users/fineiskid/Desktop/Access_Analysis_Rproject_local/data/\n"
   ]
  },
  {
   "cell_type": "code",
   "execution_count": 2,
   "metadata": {
    "collapsed": false
   },
   "outputs": [],
   "source": [
    "data = pd.read_csv(\"single_clean_day.csv\")"
   ]
  },
  {
   "cell_type": "code",
   "execution_count": 3,
   "metadata": {
    "collapsed": false
   },
   "outputs": [],
   "source": [
    "data[\"ServiceDate\"] = pd.to_datetime(data[\"ServiceDate\"], format ='%Y-%m-%d %H:%M:%S', unit = \"D\")"
   ]
  },
  {
   "cell_type": "code",
   "execution_count": 4,
   "metadata": {
    "collapsed": true
   },
   "outputs": [],
   "source": [
    "def add_TimeWindows(data, windowsz):\n",
    "    '''calculate time windows (pickup and dropoff)\n",
    "        from SchTime and ETA.\n",
    "        data is subsetted schedule data from a day.\n",
    "        windowsz is size of pickup/dropoff window in seconds'''\n",
    "\n",
    "    etas = data[\"ETA\"]\n",
    "    schtime =data[\"SchTime\"]\n",
    "    schtime[schtime<0] = np.nan\n",
    "    data[\"PickupStart\"] = 0; data[\"PickupEnd\"] = 0\n",
    "    data[\"DropoffStart\"] = 0; data[\"DropoffEnd\"] = 0\n",
    "    for x in range(0, len(etas)):\n",
    "\n",
    "        #make dropoff window when there's no required drop off time\n",
    "        if (data[\"Activity\"].iloc[x] == 1) & (data[\"ReqLate\"].iloc[x] <0):\n",
    "            data[\"DropoffStart\"].iloc[x] = data[\"ETA\"].iloc[x]-3600\n",
    "            data[\"DropoffEnd\"].iloc[x] = data[\"ETA\"].iloc[x]+3600\n",
    "        \n",
    "        #make dropoff window when there IS a required drop off time: 1hr before ReqLate time\n",
    "        if (data[\"Activity\"].iloc[x] == 1) & (data[\"ReqLate\"].iloc[x] >0):\n",
    "            data[\"DropoffStart\"].iloc[x] = data[\"ETA\"].iloc[x]-3600\n",
    "            data[\"DropoffEnd\"].iloc[x] = data[\"ReqLate\"].iloc[x]  \n",
    "        \n",
    "        #schtime is in the middle of the pick up window\n",
    "        if data[\"Activity\"].iloc[x] == 0:\n",
    "            data[\"PickupStart\"].iloc[x] = schtime.iloc[x]-(windowsz/2)\n",
    "            data[\"PickupEnd\"].iloc[x] = schtime.iloc[x]+(windowsz/2)\n",
    "\n",
    "    return data"
   ]
  },
  {
   "cell_type": "code",
   "execution_count": 74,
   "metadata": {
    "collapsed": false
   },
   "outputs": [
    {
     "data": {
      "text/plain": [
       "47.509999999999998"
      ]
     },
     "execution_count": 74,
     "metadata": {},
     "output_type": "execute_result"
    }
   ],
   "source": [
    "# SAVE SINGLE DAY'S RIDES WITH TIME WINDOWS\n",
    "data = add_TimeWindows(data, 60*30)\n",
    "data.to_csv(path = \"/Users/fineiskid/Desktop/single_day_TimeWindows.csv\", index = False)"
   ]
  },
  {
   "cell_type": "code",
   "execution_count": 6,
   "metadata": {
    "collapsed": false
   },
   "outputs": [],
   "source": [
    "def get_URIDs(data, broken_Run, resched_init_time):\n",
    "    '''get unscheduled request id's from broken bus,\n",
    "        based on when we're allowed to first start rescheduling.\n",
    "        resched_init_time is in seconds, marks the point in time we can begin considering reinserting new requests.\n",
    "        broken_Run is number of run that breaks\n",
    "        data is today's scheduling data\n",
    "\n",
    "        RETURN: list of URIDs'''\n",
    "    \n",
    "    #all rides that exist past time we're allowed to begin rescheduling\n",
    "    leftover = data[data[\"ETA\"] >= resched_init_time]\n",
    "    leftover = leftover[(leftover[\"Activity\"] != 6) & (leftover[\"Activity\"] != 16) & (leftover[\"Activity\"] != 3)]\n",
    "    \n",
    "    #rides that were scheduled to be on broken bus past resched_init_time\n",
    "    pickmeup = leftover[leftover[\"Run\"]==broken_Run]\n",
    "    clients = pickmeup[\"ClientId\"].unique()\n",
    "    clients = clients[~(np.isnan(clients))]\n",
    "    rmClients = []\n",
    "    \n",
    "    #remove people who would were scheduled to be on bus before resched_init_time\n",
    "    for cli in clients:\n",
    "        onoff = pickmeup[pickmeup[\"ClientId\"]==cli]\n",
    "        if onoff.shape[0] == 1:\n",
    "            rmClients.append(cli)\n",
    "    unsched = pickmeup[~pickmeup[\"ClientId\"].isin(rmClients)]\n",
    "\n",
    "    print(\"There are %s rides left to be scheduled on broken run %s\" % (unsched.shape[0], broken_Run))\n",
    "\n",
    "    class URID:\n",
    "        def __init__(self, BookingId, Run, PickUpCoords, DropOffCoords, PickupStart, PickupEnd, DropoffStart, DropoffEnd, SpaceOn, MobAids):\n",
    "            self.BookingId= BookingId\n",
    "            self.Run = Run\n",
    "            self.PickUpCoords = PickUpCoords\n",
    "            self.DropOffCoords = DropOffCoords\n",
    "            self.PickupStart = PickupStart\n",
    "            self.PickupEnd = PickupEnd\n",
    "            self.DropoffStart = DropoffStart\n",
    "            self.DropoffEnd = DropoffEnd\n",
    "            self.SpaceOn = SpaceOn\n",
    "            self.MobAids = MobAids\n",
    "\n",
    "\n",
    "    diffIDs = unsched.BookingId.unique()\n",
    "    saveme = []\n",
    "\n",
    "    #save separate URID's in a list\n",
    "    for ID in diffIDs:\n",
    "        temp = URID(BookingId = ID,\n",
    "            Run = broken_Run,\n",
    "            PickUpCoords = unsched[unsched[\"BookingId\"]==unsched.BookingId.iloc[0]][[\"LAT\", \"LON\"]].iloc[0,],\n",
    "            DropOffCoords = unsched[unsched[\"BookingId\"]==unsched.BookingId.iloc[0]][[\"LAT\", \"LON\"]].iloc[1,],\n",
    "            PickupStart = unsched[unsched[\"BookingId\"]==unsched.BookingId.iloc[0]][[\"PickupStart\"]].iloc[0,],\n",
    "            PickupEnd = unsched[unsched[\"BookingId\"]==unsched.BookingId.iloc[0]][[\"PickupEnd\"]].iloc[0,],\n",
    "            DropoffStart = unsched[unsched[\"BookingId\"]==unsched.BookingId.iloc[0]][[\"DropoffStart\"]].iloc[0,],\n",
    "            DropoffEnd = unsched[unsched[\"BookingId\"]==unsched.BookingId.iloc[0]][[\"DropoffEnd\"]].iloc[0,],\n",
    "            SpaceOn = unsched[unsched[\"BookingId\"]==unsched.BookingId.iloc[0]][[\"SpaceOn\"]].iloc[0,],\n",
    "            MobAids = unsched[unsched[\"BookingId\"]==unsched.BookingId.iloc[0]][[\"MobAids\"]].iloc[0,])\n",
    "        saveme.append(temp)\n",
    "\n",
    "    return saveme"
   ]
  },
  {
   "cell_type": "code",
   "execution_count": 7,
   "metadata": {
    "collapsed": false
   },
   "outputs": [
    {
     "name": "stdout",
     "output_type": "stream",
     "text": [
      "There are 10 rides left to be scheduled on broken run 680SEB\n"
     ]
    }
   ],
   "source": [
    "broken_Run = data.Run.unique()[0]\n",
    "resched_init_time = 14*60*60\n",
    "urids = get_URIDs(data, broken_Run, resched_init_time)"
   ]
  },
  {
   "cell_type": "code",
   "execution_count": 8,
   "metadata": {
    "collapsed": false
   },
   "outputs": [],
   "source": [
    "def get_busRuns(data, Run, resched_init_time):\n",
    "    ''' take pd.DataFrame from add_Time_Windows.py and create busRun object for specified Run number,\n",
    "    for all stops occurring at or after resched_init_time.\n",
    "\n",
    "    RETURN: busRun object for specified Run.'''\n",
    "\n",
    "    #subset based on matching Run number, and subset for stops only at or after resched_init_time\n",
    "    print(\"Getting remaing rides for run %s\" % Run)\n",
    "    dataSub = data[(data[\"Run\"] == Run) & (data[\"ETA\"] >= resched_init_time)]\n",
    "    #subset only the rides that aren't 6, 16, or 3:\n",
    "    leave = dataSub.index.min()\n",
    "    gas = dataSub[(dataSub[\"Activity\"]==6)|(dataSub[\"Activity\"]==16)|(dataSub[\"Activity\"]==3)].index.min()\n",
    "    busRun = dataSub.loc[leave:(gas-1)]\n",
    "\n",
    "    return busRun"
   ]
  },
  {
   "cell_type": "code",
   "execution_count": 9,
   "metadata": {
    "collapsed": false
   },
   "outputs": [
    {
     "name": "stdout",
     "output_type": "stream",
     "text": [
      "Getting remaing rides for run 181SEB\n"
     ]
    }
   ],
   "source": [
    "#Test get_busRuns subsetting routine\n",
    "testRun = data.Run.unique()[2]\n",
    "bus181SEB = get_busRuns(data, testRun, resched_init_time)"
   ]
  },
  {
   "cell_type": "code",
   "execution_count": 10,
   "metadata": {
    "collapsed": false
   },
   "outputs": [
    {
     "data": {
      "text/plain": [
       "['PickupEnd',\n",
       " 'Run',\n",
       " 'BookingId',\n",
       " 'MobAids',\n",
       " 'DropoffStart',\n",
       " 'DropoffEnd',\n",
       " 'PickUpCoords',\n",
       " 'SpaceOn',\n",
       " 'DropOffCoords',\n",
       " 'PickupStart']"
      ]
     },
     "execution_count": 10,
     "metadata": {},
     "output_type": "execute_result"
    }
   ],
   "source": [
    "#list urid attributes:\n",
    "urids[0].__dict__.keys()"
   ]
  },
  {
   "cell_type": "code",
   "execution_count": 13,
   "metadata": {
    "collapsed": false
   },
   "outputs": [],
   "source": [
    "def time_insertions(Run_Schedule, URID, pickUpDropOff = True):\n",
    "    '''URID: of class URID, has bookingId, pickUpLocation, dropOffLocation, etc.\n",
    "        Run_Schedule: Schedule (pd.Data.Frame) of the run on which we're trying to insert the URID\n",
    "        RETURN: pd.Data.Frame corresponding to nodes with overlapping pickup/dropoff windows'''\n",
    "\n",
    "    #CURRENT ISSUES: RUNSCHEDULE SHOULD HAVE PRECEDING NODES, AT LEAST ONE PRIOR TO RESCHED_INIT_TIME\n",
    "\n",
    "    if pickUpDropOff:\n",
    "        Start = URID.PickupStart[0]\n",
    "        End = URID.PickupEnd[0]\n",
    "    else:\n",
    "        Start = URID.DropoffStart[0]\n",
    "        End = URID.DropoffEnd[0]\n",
    "        \n",
    "    crossover = []\n",
    "    \n",
    "    for jj in range(Run_Schedule.shape[0]):\n",
    "        #Checking if a Run's PickupWindow overlaps with URID's Window.\n",
    "        if Run_Schedule.Activity.iloc[jj] == 0:\n",
    "            PUE = Run_Schedule.PickupEnd.iloc[jj]; PUS = Run_Schedule.PickupStart.iloc[jj]\n",
    "            #simple, unequal overlap\n",
    "            if (PUE > Start) & (PUS < End):\n",
    "                crossover.append(Run_Schedule.index[jj])\n",
    "            # equal or strictly within [PUS, PUE]\n",
    "            if (PUE <= End) & (PUS >= Start):\n",
    "                crossover.append(Run_Schedule.index[jj])\n",
    "            # [Start, End] completely covered by [PUS, PUE] and then some on both sides\n",
    "            if (PUE > End) & (PUS < Start):\n",
    "                crossover.append(Run_Schedule.index[jj])\n",
    "            # [Start, End] completely covered and then some only on left side\n",
    "            if (PUE == End) & (PUS < Start):\n",
    "                crossover.append(Run_Schedule.index[jj])\n",
    "            # [Start, End] completely covered and then some only on right side\n",
    "            if (PUS == Start) & (PUE > End):\n",
    "                crossover.append(Run_Schedule.index[jj])\n",
    "                \n",
    "        #Checking if a Run's DropoffWindow overlaps with URID's Window.\n",
    "        if Run_Schedule.Activity.iloc[jj] == 1:\n",
    "            DOE = Run_Schedule.DropoffEnd.iloc[jj]; DOS = Run_Schedule.DropoffStart.iloc[jj]\n",
    "            if (DOE > Start) & (DOS < End):\n",
    "                crossover.append(Run_Schedule.index[jj])\n",
    "            if (DOE <= End) & (DOS >= Start):\n",
    "                crossover.append(Run_Schedule.index[jj])\n",
    "            if (DOE > End) & (DOS < Start):\n",
    "                crossover.append(Run_Schedule.index[jj])\n",
    "            if (DOE == End) & (DOS < Start):\n",
    "                crossover.append(Run_Schedule.index[jj])\n",
    "            if (DOS == Start) & (DOE > End):\n",
    "                crossover.append(Run_Schedule.index[jj])\n",
    "\n",
    "    #Get rid of cases that repeat themselves:\n",
    "    crossover = set(crossover)\n",
    "    print(\"Need to service URID within %s sec to %s sec\" % (Start, End))\n",
    "    print(\"These indices of Run_Schedule overlap with URID: %s\" % crossover)\n",
    "\n",
    "    return Run_Schedule.loc[crossover]\n",
    "\n",
    "pickUpDropOff = True; URID = urids[0]; Run_Schedule = bus181SEB"
   ]
  },
  {
   "cell_type": "code",
   "execution_count": 79,
   "metadata": {
    "collapsed": false
   },
   "outputs": [
    {
     "name": "stdout",
     "output_type": "stream",
     "text": [
      "Need to service URID within 51300.0 sec to 53100.0 sec\n",
      "These indices of Run_Schedule overlap: set([52, 53, 54, 55, 58, 59])\n"
     ]
    }
   ],
   "source": [
    "from haversine import haversine\n",
    "inserts = time_insertions(Run_Schedule, URID, pickUpDropOff)\n",
    "overlap_LAT = inserts.LAT.tolist()\n",
    "overlap_LON = inserts.LON.tolist()\n",
    "if pickUpDropOff:\n",
    "    URID_loc = ([URID.PickUpCoords[\"LAT\"], URID.PickUpCoords[\"LON\"]])\n",
    "else:\n",
    "    URID_loc = ([URID.DropOffCoords[\"LAT\"], URID.PickUpCoords[\"LON\"]])"
   ]
  },
  {
   "cell_type": "code",
   "execution_count": 80,
   "metadata": {
    "collapsed": false
   },
   "outputs": [
    {
     "name": "stdout",
     "output_type": "stream",
     "text": [
      "23.8160392766\n",
      "22.3902177184\n",
      "22.3902177184\n",
      "20.4168699431\n",
      "18.5852218387\n",
      "19.827313131\n"
     ]
    }
   ],
   "source": [
    "for k in range(len(overlap_LAT)):\n",
    "    point = (overlap_LAT[k], overlap_LON[k])\n",
    "    dist = haversine(point, URID_loc, miles=True)\n",
    "    print(dist)"
   ]
  },
  {
   "cell_type": "code",
   "execution_count": 104,
   "metadata": {
    "collapsed": false
   },
   "outputs": [
    {
     "data": {
      "text/plain": [
       "59"
      ]
     },
     "execution_count": 104,
     "metadata": {},
     "output_type": "execute_result"
    }
   ],
   "source": [
    "Run_Schedule.loc[inserts.index[0]].LAT\n",
    "inserts.index[len(inserts.index)-1]"
   ]
  },
  {
   "cell_type": "code",
   "execution_count": 109,
   "metadata": {
    "collapsed": false
   },
   "outputs": [
    {
     "data": {
      "text/plain": [
       "[47.439999999999998, -122.34]"
      ]
     },
     "execution_count": 109,
     "metadata": {},
     "output_type": "execute_result"
    }
   ],
   "source": [
    "URID.PickUpCoords.tolist()"
   ]
  },
  {
   "cell_type": "code",
   "execution_count": null,
   "metadata": {
    "collapsed": true
   },
   "outputs": [],
   "source": []
  }
 ],
 "metadata": {
  "kernelspec": {
   "display_name": "Python 2",
   "language": "python",
   "name": "python2"
  },
  "language_info": {
   "codemirror_mode": {
    "name": "ipython",
    "version": 2
   },
   "file_extension": ".py",
   "mimetype": "text/x-python",
   "name": "python",
   "nbconvert_exporter": "python",
   "pygments_lexer": "ipython2",
   "version": "2.7.9"
  }
 },
 "nbformat": 4,
 "nbformat_minor": 0
}
