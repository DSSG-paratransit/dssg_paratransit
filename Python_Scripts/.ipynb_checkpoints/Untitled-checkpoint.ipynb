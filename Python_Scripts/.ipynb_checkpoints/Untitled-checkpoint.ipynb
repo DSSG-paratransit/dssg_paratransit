{
 "cells": [
  {
   "cell_type": "code",
   "execution_count": 1,
   "metadata": {
    "collapsed": false
   },
   "outputs": [
    {
     "name": "stderr",
     "output_type": "stream",
     "text": [
      "/Users/fineiskid/anaconda/lib/python2.7/site-packages/pandas/io/parsers.py:1139: DtypeWarning: Columns (3) have mixed types. Specify dtype option on import or set low_memory=False.\n",
      "  data = self._reader.read(nrows)\n"
     ]
    }
   ],
   "source": [
    "import requests\n",
    "import pandas as pd\n",
    "import numpy as np\n",
    "import time\n",
    "\n",
    "data = pd.DataFrame.from_csv(\"/Users/fineiskid/Desktop/Access_Analysis_Rproject_local/data/UW_Trip_Data_QC.csv\")\n",
    "lats = np.array(data.LAT[0:10]); lons = np.array(data.LON[0:10])\n",
    "\n",
    "def dist_table_url(lats, lons):\n",
    "    #lats and lons can be vectors, for multiple stop locations\n",
    "    url = \"http://router.project-osrm.org/table?loc=\" + str(lats[0]) +\",\" + str(lons[0])\n",
    "    n = len(lats)\n",
    "    for ii in range(1,n):\n",
    "        url += \"&loc=\" +str(lats[ii]) + \",\" + str(lons[ii])\n",
    "    return(url)\n",
    "        \n",
    "def get_dist_table(url, n):\n",
    "    #url of osrm api call, n is number of verticies\n",
    "    out = requests.get(url)\n",
    "    output = out.text.encode('ascii', 'ignore')\n",
    "    mat = np.matrix(output[18:(len(output)-1)]).reshape([n,n])\n",
    "    return(mat)\n",
    "    \n",
    "t = time.time()\n",
    "out = get_dist_table(dist_table_url(lats, lons), len(lats))\n",
    "elapsed = time.time() - t\n",
    "print(\"Query took %f seconds\", elapsed)"
   ]
  },
  {
   "cell_type": "code",
   "execution_count": 2,
   "metadata": {
    "collapsed": false
   },
   "outputs": [
    {
     "data": {
      "text/plain": [
       "matrix([[    0,  7254, 10409,  7554,  7033,  6332,  5651,  5578,  7083,\n",
       "          6749],\n",
       "        [ 7922,     0, 14810, 11955, 12205,  9052,  7677,  7712,  2260,\n",
       "          2921],\n",
       "        [10851, 14782,     0,  5456,  6215,  6412, 11256, 11097, 14335,\n",
       "         13701],\n",
       "        [ 7709, 11640,  5456,     0,  2160,  6654,  8202,  7955, 11193,\n",
       "         10559],\n",
       "        [ 7231, 12033,  6152,  2072,     0,  6521,  8243,  7996, 11586,\n",
       "         10952],\n",
       "        [ 6397,  8902,  5843,  6716,  6266,     0,  5100,  4853,  8455,\n",
       "          7821],\n",
       "        [ 5719,  7024, 10476,  7851,  7879,  4633,     0,  1982,  6087,\n",
       "          5314],\n",
       "        [ 5571,  6876, 10088,  7463,  7491,  4245,  1940,     0,  6429,\n",
       "          5795],\n",
       "        [ 7343,  2278, 13842, 10987, 11237,  8084,  6038,  6744,     0,\n",
       "          1200],\n",
       "        [ 7372,  2885, 14422, 11567, 11817,  8664,  5265,  6333,  1200,\n",
       "             0]])"
      ]
     },
     "execution_count": 2,
     "metadata": {},
     "output_type": "execute_result"
    }
   ],
   "source": [
    "out"
   ]
  },
  {
   "cell_type": "code",
   "execution_count": null,
   "metadata": {
    "collapsed": true
   },
   "outputs": [],
   "source": []
  }
 ],
 "metadata": {
  "kernelspec": {
   "display_name": "Python 2",
   "language": "python",
   "name": "python2"
  },
  "language_info": {
   "codemirror_mode": {
    "name": "ipython",
    "version": 2
   },
   "file_extension": ".py",
   "mimetype": "text/x-python",
   "name": "python",
   "nbconvert_exporter": "python",
   "pygments_lexer": "ipython2",
   "version": "2.7.9"
  }
 },
 "nbformat": 4,
 "nbformat_minor": 0
}
