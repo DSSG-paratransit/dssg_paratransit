{
 "cells": [
  {
   "cell_type": "code",
   "execution_count": 23,
   "metadata": {
    "collapsed": false
   },
   "outputs": [],
   "source": [
    "import pandas as pd\n",
    "import numpy as np\n",
    "import matplotlib.pyplot as plt\n",
    "%matplotlib inline\n",
    "deadhead = pd.read_csv('../../data/4mo_deadhead_results.csv')"
   ]
  },
  {
   "cell_type": "code",
   "execution_count": 51,
   "metadata": {
    "collapsed": false
   },
   "outputs": [
    {
     "data": {
      "image/png": "[encoded data removed]",
      "text/plain": [
       "<matplotlib.figure.Figure at 0x108ff9190>"
      ]
     },
     "metadata": {},
     "output_type": "display_data"
    },
    {
     "name": "stdout",
     "output_type": "stream",
     "text": [
      "32.6434370879% is mean\n",
      "32.006116208% is median\n"
     ]
    }
   ],
   "source": [
    "plt.figure(figsize=(10,7.5))\n",
    "ax = plt.subplot(111)  \n",
    "ax.spines[\"top\"].set_visible(False)  \n",
    "ax.spines[\"right\"].set_visible(False)  \n",
    "ax.get_xaxis().tick_bottom()  \n",
    "ax.get_yaxis().tick_left()  \n",
    "plt.xticks(fontsize=14)  \n",
    "plt.yticks(range(0, 4000, 400), fontsize=14)  \n",
    "plt.xlabel(\"Percent Deadhead\", fontsize=16)  \n",
    "plt.ylabel(\"Count\", fontsize=16)  \n",
    "plt.hist(deadhead.PctDeadhead * 100, color=\"#3F5D7D\", bins=60)\n",
    "plt.axvline(np.mean(deadhead.PctDeadhead*100), color='w')\n",
    "plt.axvline(np.median(deadhead.PctDeadhead*100), color='m')\n",
    "#plt.axvline(np.mean(deadhead.PctDeadhead*100) + np.std(deadhead.PctDeadhead*100), color='w')\n",
    "#plt.axvline(np.mean(deadhead.PctDeadhead*100) - np.std(deadhead.PctDeadhead*100), color='w')\n",
    "#plt.axvline(np.mean(deadhead.PctDeadhead*100) + 2 * np.std(deadhead.PctDeadhead*100), color='w')\n",
    "#plt.axvline(np.mean(deadhead.PctDeadhead*100) - 2 * np.std(deadhead.PctDeadhead*100), color='w')\n",
    "plt.show()\n",
    "print(str(np.mean(deadhead.PctDeadhead*100)) + '% is mean')\n",
    "print(str(np.median(deadhead.PctDeadhead*100)) + '% is median')"
   ]
  },
  {
   "cell_type": "code",
   "execution_count": null,
   "metadata": {
    "collapsed": true
   },
   "outputs": [],
   "source": []
  }
 ],
 "metadata": {
  "kernelspec": {
   "display_name": "Python 2",
   "language": "python",
   "name": "python2"
  },
  "language_info": {
   "codemirror_mode": {
    "name": "ipython",
    "version": 2
   },
   "file_extension": ".py",
   "mimetype": "text/x-python",
   "name": "python",
   "nbconvert_exporter": "python",
   "pygments_lexer": "ipython2",
   "version": "2.7.10"
  }
 },
 "nbformat": 4,
 "nbformat_minor": 0
}
