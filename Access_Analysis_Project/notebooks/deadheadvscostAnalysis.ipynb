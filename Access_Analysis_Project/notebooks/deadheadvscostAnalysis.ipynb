{
 "cells": [
  {
   "cell_type": "code",
   "execution_count": 1,
   "metadata": {
    "collapsed": true
   },
   "outputs": [],
   "source": [
    "import pandas as pd"
   ]
  },
  {
   "cell_type": "code",
   "execution_count": 2,
   "metadata": {
    "collapsed": false
   },
   "outputs": [
    {
     "data": {
      "text/plain": [
       "u'/Users/kivan/repos/DSSG-Paratransit/Access_Analysis_Rproject/Scripts'"
      ]
     },
     "execution_count": 2,
     "metadata": {},
     "output_type": "execute_result"
    }
   ],
   "source": [
    "%pwd"
   ]
  },
  {
   "cell_type": "code",
   "execution_count": 3,
   "metadata": {
    "collapsed": false
   },
   "outputs": [
    {
     "name": "stdout",
     "output_type": "stream",
     "text": [
      "/Users/kivan/repos/DSSG-Paratransit/Access_Analysis_Rproject/data\n"
     ]
    }
   ],
   "source": [
    "%cd ../data/"
   ]
  },
  {
   "cell_type": "code",
   "execution_count": 4,
   "metadata": {
    "collapsed": false
   },
   "outputs": [
    {
     "data": {
      "text/html": [
       "<div>\n",
       "<table border=\"1\" class=\"dataframe\">\n",
       "  <thead>\n",
       "    <tr style=\"text-align: right;\">\n",
       "      <th></th>\n",
       "      <th>ServiceDate</th>\n",
       "      <th>Run</th>\n",
       "      <th>CostProxy</th>\n",
       "      <th>PctDeadhead</th>\n",
       "    </tr>\n",
       "  </thead>\n",
       "  <tbody>\n",
       "    <tr>\n",
       "      <th>0</th>\n",
       "      <td>0015-01-01</td>\n",
       "      <td>9701</td>\n",
       "      <td>2460.000000</td>\n",
       "      <td>0.372764</td>\n",
       "    </tr>\n",
       "    <tr>\n",
       "      <th>1</th>\n",
       "      <td>0015-01-01</td>\n",
       "      <td>9706</td>\n",
       "      <td>3218.444444</td>\n",
       "      <td>0.414486</td>\n",
       "    </tr>\n",
       "    <tr>\n",
       "      <th>2</th>\n",
       "      <td>0015-01-01</td>\n",
       "      <td>9702</td>\n",
       "      <td>3466.666667</td>\n",
       "      <td>0.330865</td>\n",
       "    </tr>\n",
       "    <tr>\n",
       "      <th>3</th>\n",
       "      <td>0015-01-01</td>\n",
       "      <td>9703</td>\n",
       "      <td>3003.000000</td>\n",
       "      <td>0.199606</td>\n",
       "    </tr>\n",
       "    <tr>\n",
       "      <th>4</th>\n",
       "      <td>0015-01-01</td>\n",
       "      <td>9704</td>\n",
       "      <td>3843.500000</td>\n",
       "      <td>0.426727</td>\n",
       "    </tr>\n",
       "  </tbody>\n",
       "</table>\n",
       "</div>"
      ],
      "text/plain": [
       "  ServiceDate   Run    CostProxy  PctDeadhead\n",
       "0  0015-01-01  9701  2460.000000     0.372764\n",
       "1  0015-01-01  9706  3218.444444     0.414486\n",
       "2  0015-01-01  9702  3466.666667     0.330865\n",
       "3  0015-01-01  9703  3003.000000     0.199606\n",
       "4  0015-01-01  9704  3843.500000     0.426727"
      ]
     },
     "execution_count": 4,
     "metadata": {},
     "output_type": "execute_result"
    }
   ],
   "source": [
    "data = pd.read_csv('4mo_deadhead_results.csv')\n",
    "data.to_csv('4mo_deadhead_results.csv', index=False)\n",
    "data.head()"
   ]
  },
  {
   "cell_type": "code",
   "execution_count": 5,
   "metadata": {
    "collapsed": false
   },
   "outputs": [
    {
     "data": {
      "text/html": [
       "<div>\n",
       "<table border=\"1\" class=\"dataframe\">\n",
       "  <thead>\n",
       "    <tr style=\"text-align: right;\">\n",
       "      <th></th>\n",
       "      <th>ServiceDate</th>\n",
       "      <th>Run</th>\n",
       "      <th>CostProxy</th>\n",
       "      <th>PctDeadhead</th>\n",
       "    </tr>\n",
       "  </thead>\n",
       "  <tbody>\n",
       "    <tr>\n",
       "      <th>1026</th>\n",
       "      <td>0015-01-09</td>\n",
       "      <td>BD1</td>\n",
       "      <td>10243.000000</td>\n",
       "      <td>0.929806</td>\n",
       "    </tr>\n",
       "    <tr>\n",
       "      <th>1115</th>\n",
       "      <td>0015-03-03</td>\n",
       "      <td>BD3</td>\n",
       "      <td>3120.000000</td>\n",
       "      <td>0.903526</td>\n",
       "    </tr>\n",
       "    <tr>\n",
       "      <th>3754</th>\n",
       "      <td>0015-04-16</td>\n",
       "      <td>6060</td>\n",
       "      <td>3225.000000</td>\n",
       "      <td>0.954625</td>\n",
       "    </tr>\n",
       "    <tr>\n",
       "      <th>13573</th>\n",
       "      <td>0015-04-24</td>\n",
       "      <td>4121</td>\n",
       "      <td>1997.142857</td>\n",
       "      <td>0.922818</td>\n",
       "    </tr>\n",
       "  </tbody>\n",
       "</table>\n",
       "</div>"
      ],
      "text/plain": [
       "      ServiceDate   Run     CostProxy  PctDeadhead\n",
       "1026   0015-01-09   BD1  10243.000000     0.929806\n",
       "1115   0015-03-03   BD3   3120.000000     0.903526\n",
       "3754   0015-04-16  6060   3225.000000     0.954625\n",
       "13573  0015-04-24  4121   1997.142857     0.922818"
      ]
     },
     "execution_count": 5,
     "metadata": {},
     "output_type": "execute_result"
    }
   ],
   "source": [
    "data[data.PctDeadhead > 0.9]"
   ]
  },
  {
   "cell_type": "code",
   "execution_count": 6,
   "metadata": {
    "collapsed": false
   },
   "outputs": [
    {
     "name": "stderr",
     "output_type": "stream",
     "text": [
      "//anaconda/lib/python2.7/site-packages/IPython/core/interactiveshell.py:2717: DtypeWarning: Columns (11) have mixed types. Specify dtype option on import or set low_memory=False.\n",
      "  interactivity=interactivity, compiler=compiler, result=result)\n"
     ]
    },
    {
     "data": {
      "text/html": [
       "<div>\n",
       "<table border=\"1\" class=\"dataframe\">\n",
       "  <thead>\n",
       "    <tr style=\"text-align: right;\">\n",
       "      <th></th>\n",
       "      <th>ServiceDate</th>\n",
       "      <th>Run</th>\n",
       "      <th>ProviderId</th>\n",
       "      <th>EvOrder</th>\n",
       "      <th>EvId</th>\n",
       "      <th>ReqTime</th>\n",
       "      <th>SchTime</th>\n",
       "      <th>ReqLate</th>\n",
       "      <th>Activity</th>\n",
       "      <th>ETA</th>\n",
       "      <th>...</th>\n",
       "      <th>BookingId</th>\n",
       "      <th>SchedStatus</th>\n",
       "      <th>SubtypeAbbr</th>\n",
       "      <th>FundingSourceId1</th>\n",
       "      <th>PassOn</th>\n",
       "      <th>SpaceOn</th>\n",
       "      <th>PassOff</th>\n",
       "      <th>SpaceOff</th>\n",
       "      <th>ClientId</th>\n",
       "      <th>MobAids</th>\n",
       "    </tr>\n",
       "  </thead>\n",
       "  <tbody>\n",
       "    <tr>\n",
       "      <th>0</th>\n",
       "      <td>1/1/2014 0:00:00</td>\n",
       "      <td>9990</td>\n",
       "      <td>12</td>\n",
       "      <td>0</td>\n",
       "      <td>6198</td>\n",
       "      <td>17100</td>\n",
       "      <td>17100</td>\n",
       "      <td>-1</td>\n",
       "      <td>0</td>\n",
       "      <td>17100</td>\n",
       "      <td>...</td>\n",
       "      <td>17587166.0</td>\n",
       "      <td>1.0</td>\n",
       "      <td>SUB</td>\n",
       "      <td>2.0</td>\n",
       "      <td>CLI1</td>\n",
       "      <td>AM1</td>\n",
       "      <td>NaN</td>\n",
       "      <td>NaN</td>\n",
       "      <td>97539.0</td>\n",
       "      <td>LI</td>\n",
       "    </tr>\n",
       "    <tr>\n",
       "      <th>1</th>\n",
       "      <td>1/1/2014 0:00:00</td>\n",
       "      <td>9990</td>\n",
       "      <td>12</td>\n",
       "      <td>0</td>\n",
       "      <td>6199</td>\n",
       "      <td>-1</td>\n",
       "      <td>-1</td>\n",
       "      <td>19800</td>\n",
       "      <td>1</td>\n",
       "      <td>18176</td>\n",
       "      <td>...</td>\n",
       "      <td>17587166.0</td>\n",
       "      <td>1.0</td>\n",
       "      <td>SUB</td>\n",
       "      <td>2.0</td>\n",
       "      <td>NaN</td>\n",
       "      <td>NaN</td>\n",
       "      <td>CLI1</td>\n",
       "      <td>AM1</td>\n",
       "      <td>97539.0</td>\n",
       "      <td>LI</td>\n",
       "    </tr>\n",
       "    <tr>\n",
       "      <th>2</th>\n",
       "      <td>1/1/2014 0:00:00</td>\n",
       "      <td>9990</td>\n",
       "      <td>12</td>\n",
       "      <td>0</td>\n",
       "      <td>11305</td>\n",
       "      <td>68100</td>\n",
       "      <td>68100</td>\n",
       "      <td>-1</td>\n",
       "      <td>0</td>\n",
       "      <td>68100</td>\n",
       "      <td>...</td>\n",
       "      <td>17608867.0</td>\n",
       "      <td>1.0</td>\n",
       "      <td>DEM</td>\n",
       "      <td>1.0</td>\n",
       "      <td>CLI1</td>\n",
       "      <td>AM1</td>\n",
       "      <td>NaN</td>\n",
       "      <td>NaN</td>\n",
       "      <td>122812.0</td>\n",
       "      <td>NaN</td>\n",
       "    </tr>\n",
       "    <tr>\n",
       "      <th>3</th>\n",
       "      <td>1/1/2014 0:00:00</td>\n",
       "      <td>9990</td>\n",
       "      <td>12</td>\n",
       "      <td>0</td>\n",
       "      <td>11306</td>\n",
       "      <td>-1</td>\n",
       "      <td>-1</td>\n",
       "      <td>72000</td>\n",
       "      <td>1</td>\n",
       "      <td>69451</td>\n",
       "      <td>...</td>\n",
       "      <td>17608867.0</td>\n",
       "      <td>1.0</td>\n",
       "      <td>DEM</td>\n",
       "      <td>1.0</td>\n",
       "      <td>NaN</td>\n",
       "      <td>NaN</td>\n",
       "      <td>CLI1</td>\n",
       "      <td>AM1</td>\n",
       "      <td>122812.0</td>\n",
       "      <td>NaN</td>\n",
       "    </tr>\n",
       "    <tr>\n",
       "      <th>4</th>\n",
       "      <td>1/1/2014 0:00:00</td>\n",
       "      <td>9990</td>\n",
       "      <td>12</td>\n",
       "      <td>0</td>\n",
       "      <td>17419</td>\n",
       "      <td>73800</td>\n",
       "      <td>74700</td>\n",
       "      <td>-1</td>\n",
       "      <td>0</td>\n",
       "      <td>74700</td>\n",
       "      <td>...</td>\n",
       "      <td>17613026.0</td>\n",
       "      <td>1.0</td>\n",
       "      <td>WCL</td>\n",
       "      <td>2.0</td>\n",
       "      <td>CLI1</td>\n",
       "      <td>AM1</td>\n",
       "      <td>NaN</td>\n",
       "      <td>NaN</td>\n",
       "      <td>98986.0</td>\n",
       "      <td>NaN</td>\n",
       "    </tr>\n",
       "  </tbody>\n",
       "</table>\n",
       "<p>5 rows × 26 columns</p>\n",
       "</div>"
      ],
      "text/plain": [
       "        ServiceDate   Run  ProviderId  EvOrder   EvId  ReqTime  SchTime  \\\n",
       "0  1/1/2014 0:00:00  9990          12        0   6198    17100    17100   \n",
       "1  1/1/2014 0:00:00  9990          12        0   6199       -1       -1   \n",
       "2  1/1/2014 0:00:00  9990          12        0  11305    68100    68100   \n",
       "3  1/1/2014 0:00:00  9990          12        0  11306       -1       -1   \n",
       "4  1/1/2014 0:00:00  9990          12        0  17419    73800    74700   \n",
       "\n",
       "   ReqLate  Activity    ETA   ...      BookingId SchedStatus SubtypeAbbr  \\\n",
       "0       -1         0  17100   ...     17587166.0         1.0         SUB   \n",
       "1    19800         1  18176   ...     17587166.0         1.0         SUB   \n",
       "2       -1         0  68100   ...     17608867.0         1.0         DEM   \n",
       "3    72000         1  69451   ...     17608867.0         1.0         DEM   \n",
       "4       -1         0  74700   ...     17613026.0         1.0         WCL   \n",
       "\n",
       "  FundingSourceId1  PassOn  SpaceOn  PassOff  SpaceOff  ClientId  MobAids  \n",
       "0              2.0    CLI1      AM1      NaN       NaN   97539.0       LI  \n",
       "1              2.0     NaN      NaN     CLI1       AM1   97539.0       LI  \n",
       "2              1.0    CLI1      AM1      NaN       NaN  122812.0      NaN  \n",
       "3              1.0     NaN      NaN     CLI1       AM1  122812.0      NaN  \n",
       "4              2.0    CLI1      AM1      NaN       NaN   98986.0      NaN  \n",
       "\n",
       "[5 rows x 26 columns]"
      ]
     },
     "execution_count": 6,
     "metadata": {},
     "output_type": "execute_result"
    }
   ],
   "source": [
    "full_data = pd.read_csv('UW_Trip_Data_FullHeaders.csv')\n",
    "full_data.head()"
   ]
  },
  {
   "cell_type": "code",
   "execution_count": 7,
   "metadata": {
    "collapsed": false
   },
   "outputs": [
    {
     "data": {
      "text/html": [
       "<div>\n",
       "<table border=\"1\" class=\"dataframe\">\n",
       "  <thead>\n",
       "    <tr style=\"text-align: right;\">\n",
       "      <th></th>\n",
       "      <th>ServiceDate</th>\n",
       "      <th>Run</th>\n",
       "      <th>ProviderId</th>\n",
       "      <th>EvOrder</th>\n",
       "      <th>EvId</th>\n",
       "      <th>ReqTime</th>\n",
       "      <th>SchTime</th>\n",
       "      <th>ReqLate</th>\n",
       "      <th>Activity</th>\n",
       "      <th>ETA</th>\n",
       "      <th>...</th>\n",
       "      <th>BookingId</th>\n",
       "      <th>SchedStatus</th>\n",
       "      <th>SubtypeAbbr</th>\n",
       "      <th>FundingSourceId1</th>\n",
       "      <th>PassOn</th>\n",
       "      <th>SpaceOn</th>\n",
       "      <th>PassOff</th>\n",
       "      <th>SpaceOff</th>\n",
       "      <th>ClientId</th>\n",
       "      <th>MobAids</th>\n",
       "    </tr>\n",
       "  </thead>\n",
       "  <tbody>\n",
       "  </tbody>\n",
       "</table>\n",
       "<p>0 rows × 26 columns</p>\n",
       "</div>"
      ],
      "text/plain": [
       "Empty DataFrame\n",
       "Columns: [ServiceDate, Run, ProviderId, EvOrder, EvId, ReqTime, SchTime, ReqLate, Activity, ETA, DwellTime, StreetNo, OnStreet, City, LON, LAT, BookingId, SchedStatus, SubtypeAbbr, FundingSourceId1, PassOn, SpaceOn, PassOff, SpaceOff, ClientId, MobAids]\n",
       "Index: []\n",
       "\n",
       "[0 rows x 26 columns]"
      ]
     },
     "execution_count": 7,
     "metadata": {},
     "output_type": "execute_result"
    }
   ],
   "source": [
    "full_data[(full_data.ServiceDate == '0015-04-13') & (full_data.Run == '2021')]"
   ]
  },
  {
   "cell_type": "code",
   "execution_count": 8,
   "metadata": {
    "collapsed": false
   },
   "outputs": [
    {
     "data": {
      "text/html": [
       "<div>\n",
       "<table border=\"1\" class=\"dataframe\">\n",
       "  <thead>\n",
       "    <tr style=\"text-align: right;\">\n",
       "      <th></th>\n",
       "      <th>ServiceDate</th>\n",
       "      <th>Run</th>\n",
       "      <th>ProviderId</th>\n",
       "      <th>EvOrder</th>\n",
       "      <th>EvId</th>\n",
       "      <th>ReqTime</th>\n",
       "      <th>SchTime</th>\n",
       "      <th>ReqLate</th>\n",
       "      <th>Activity</th>\n",
       "      <th>ETA</th>\n",
       "      <th>...</th>\n",
       "      <th>BookingId</th>\n",
       "      <th>SchedStatus</th>\n",
       "      <th>SubtypeAbbr</th>\n",
       "      <th>FundingSourceId1</th>\n",
       "      <th>PassOn</th>\n",
       "      <th>SpaceOn</th>\n",
       "      <th>PassOff</th>\n",
       "      <th>SpaceOff</th>\n",
       "      <th>ClientId</th>\n",
       "      <th>MobAids</th>\n",
       "    </tr>\n",
       "  </thead>\n",
       "  <tbody>\n",
       "    <tr>\n",
       "      <th>453</th>\n",
       "      <td>1/1/2014 0:00:00</td>\n",
       "      <td>9511</td>\n",
       "      <td>6</td>\n",
       "      <td>93568780</td>\n",
       "      <td>17925</td>\n",
       "      <td>-1</td>\n",
       "      <td>61560</td>\n",
       "      <td>-1</td>\n",
       "      <td>8</td>\n",
       "      <td>61571</td>\n",
       "      <td>...</td>\n",
       "      <td>NaN</td>\n",
       "      <td>NaN</td>\n",
       "      <td>NaN</td>\n",
       "      <td>NaN</td>\n",
       "      <td>NaN</td>\n",
       "      <td>NaN</td>\n",
       "      <td>NaN</td>\n",
       "      <td>NaN</td>\n",
       "      <td>NaN</td>\n",
       "      <td>NaN</td>\n",
       "    </tr>\n",
       "    <tr>\n",
       "      <th>551</th>\n",
       "      <td>1/1/2014 0:00:00</td>\n",
       "      <td>9513</td>\n",
       "      <td>6</td>\n",
       "      <td>97616017</td>\n",
       "      <td>17939</td>\n",
       "      <td>-1</td>\n",
       "      <td>54420</td>\n",
       "      <td>-1</td>\n",
       "      <td>8</td>\n",
       "      <td>54468</td>\n",
       "      <td>...</td>\n",
       "      <td>NaN</td>\n",
       "      <td>NaN</td>\n",
       "      <td>NaN</td>\n",
       "      <td>NaN</td>\n",
       "      <td>NaN</td>\n",
       "      <td>NaN</td>\n",
       "      <td>NaN</td>\n",
       "      <td>NaN</td>\n",
       "      <td>NaN</td>\n",
       "      <td>NaN</td>\n",
       "    </tr>\n",
       "    <tr>\n",
       "      <th>700</th>\n",
       "      <td>1/1/2014 0:00:00</td>\n",
       "      <td>9517</td>\n",
       "      <td>6</td>\n",
       "      <td>85365857</td>\n",
       "      <td>17956</td>\n",
       "      <td>-1</td>\n",
       "      <td>55320</td>\n",
       "      <td>-1</td>\n",
       "      <td>8</td>\n",
       "      <td>55320</td>\n",
       "      <td>...</td>\n",
       "      <td>NaN</td>\n",
       "      <td>NaN</td>\n",
       "      <td>NaN</td>\n",
       "      <td>NaN</td>\n",
       "      <td>NaN</td>\n",
       "      <td>NaN</td>\n",
       "      <td>NaN</td>\n",
       "      <td>NaN</td>\n",
       "      <td>NaN</td>\n",
       "      <td>NaN</td>\n",
       "    </tr>\n",
       "    <tr>\n",
       "      <th>710</th>\n",
       "      <td>1/1/2014 0:00:00</td>\n",
       "      <td>9518</td>\n",
       "      <td>6</td>\n",
       "      <td>77364133</td>\n",
       "      <td>15395</td>\n",
       "      <td>-1</td>\n",
       "      <td>49560</td>\n",
       "      <td>-1</td>\n",
       "      <td>8</td>\n",
       "      <td>49561</td>\n",
       "      <td>...</td>\n",
       "      <td>NaN</td>\n",
       "      <td>NaN</td>\n",
       "      <td>NaN</td>\n",
       "      <td>NaN</td>\n",
       "      <td>NaN</td>\n",
       "      <td>NaN</td>\n",
       "      <td>NaN</td>\n",
       "      <td>NaN</td>\n",
       "      <td>NaN</td>\n",
       "      <td>NaN</td>\n",
       "    </tr>\n",
       "    <tr>\n",
       "      <th>1038</th>\n",
       "      <td>1/1/2014 0:00:00</td>\n",
       "      <td>8720</td>\n",
       "      <td>5</td>\n",
       "      <td>89332571</td>\n",
       "      <td>15019</td>\n",
       "      <td>-1</td>\n",
       "      <td>51300</td>\n",
       "      <td>-1</td>\n",
       "      <td>8</td>\n",
       "      <td>51421</td>\n",
       "      <td>...</td>\n",
       "      <td>NaN</td>\n",
       "      <td>NaN</td>\n",
       "      <td>NaN</td>\n",
       "      <td>NaN</td>\n",
       "      <td>NaN</td>\n",
       "      <td>NaN</td>\n",
       "      <td>NaN</td>\n",
       "      <td>NaN</td>\n",
       "      <td>NaN</td>\n",
       "      <td>NaN</td>\n",
       "    </tr>\n",
       "  </tbody>\n",
       "</table>\n",
       "<p>5 rows × 26 columns</p>\n",
       "</div>"
      ],
      "text/plain": [
       "           ServiceDate   Run  ProviderId   EvOrder   EvId  ReqTime  SchTime  \\\n",
       "453   1/1/2014 0:00:00  9511           6  93568780  17925       -1    61560   \n",
       "551   1/1/2014 0:00:00  9513           6  97616017  17939       -1    54420   \n",
       "700   1/1/2014 0:00:00  9517           6  85365857  17956       -1    55320   \n",
       "710   1/1/2014 0:00:00  9518           6  77364133  15395       -1    49560   \n",
       "1038  1/1/2014 0:00:00  8720           5  89332571  15019       -1    51300   \n",
       "\n",
       "      ReqLate  Activity    ETA   ...     BookingId SchedStatus SubtypeAbbr  \\\n",
       "453        -1         8  61571   ...           NaN         NaN         NaN   \n",
       "551        -1         8  54468   ...           NaN         NaN         NaN   \n",
       "700        -1         8  55320   ...           NaN         NaN         NaN   \n",
       "710        -1         8  49561   ...           NaN         NaN         NaN   \n",
       "1038       -1         8  51421   ...           NaN         NaN         NaN   \n",
       "\n",
       "     FundingSourceId1  PassOn  SpaceOn  PassOff  SpaceOff ClientId  MobAids  \n",
       "453               NaN     NaN      NaN      NaN       NaN      NaN      NaN  \n",
       "551               NaN     NaN      NaN      NaN       NaN      NaN      NaN  \n",
       "700               NaN     NaN      NaN      NaN       NaN      NaN      NaN  \n",
       "710               NaN     NaN      NaN      NaN       NaN      NaN      NaN  \n",
       "1038              NaN     NaN      NaN      NaN       NaN      NaN      NaN  \n",
       "\n",
       "[5 rows x 26 columns]"
      ]
     },
     "execution_count": 8,
     "metadata": {},
     "output_type": "execute_result"
    }
   ],
   "source": [
    "eights = full_data[full_data.Activity == 8]\n",
    "eights.head()"
   ]
  },
  {
   "cell_type": "code",
   "execution_count": 9,
   "metadata": {
    "collapsed": false
   },
   "outputs": [
    {
     "data": {
      "text/html": [
       "<div>\n",
       "<table border=\"1\" class=\"dataframe\">\n",
       "  <thead>\n",
       "    <tr style=\"text-align: right;\">\n",
       "      <th></th>\n",
       "      <th>ServiceDate</th>\n",
       "      <th>Run</th>\n",
       "    </tr>\n",
       "  </thead>\n",
       "  <tbody>\n",
       "    <tr>\n",
       "      <th>453</th>\n",
       "      <td>1/1/2014 0:00:00</td>\n",
       "      <td>9511</td>\n",
       "    </tr>\n",
       "    <tr>\n",
       "      <th>551</th>\n",
       "      <td>1/1/2014 0:00:00</td>\n",
       "      <td>9513</td>\n",
       "    </tr>\n",
       "    <tr>\n",
       "      <th>700</th>\n",
       "      <td>1/1/2014 0:00:00</td>\n",
       "      <td>9517</td>\n",
       "    </tr>\n",
       "    <tr>\n",
       "      <th>710</th>\n",
       "      <td>1/1/2014 0:00:00</td>\n",
       "      <td>9518</td>\n",
       "    </tr>\n",
       "    <tr>\n",
       "      <th>1038</th>\n",
       "      <td>1/1/2014 0:00:00</td>\n",
       "      <td>8720</td>\n",
       "    </tr>\n",
       "  </tbody>\n",
       "</table>\n",
       "</div>"
      ],
      "text/plain": [
       "           ServiceDate   Run\n",
       "453   1/1/2014 0:00:00  9511\n",
       "551   1/1/2014 0:00:00  9513\n",
       "700   1/1/2014 0:00:00  9517\n",
       "710   1/1/2014 0:00:00  9518\n",
       "1038  1/1/2014 0:00:00  8720"
      ]
     },
     "execution_count": 9,
     "metadata": {},
     "output_type": "execute_result"
    }
   ],
   "source": [
    "eight_runs = eights[['ServiceDate','Run']].drop_duplicates()\n",
    "eight_runs.head()"
   ]
  },
  {
   "cell_type": "code",
   "execution_count": 10,
   "metadata": {
    "collapsed": false
   },
   "outputs": [
    {
     "data": {
      "text/html": [
       "<div>\n",
       "<table border=\"1\" class=\"dataframe\">\n",
       "  <thead>\n",
       "    <tr style=\"text-align: right;\">\n",
       "      <th></th>\n",
       "      <th>ServiceDate</th>\n",
       "      <th>Run</th>\n",
       "      <th>CostProxy</th>\n",
       "      <th>PctDeadhead</th>\n",
       "    </tr>\n",
       "  </thead>\n",
       "  <tbody>\n",
       "  </tbody>\n",
       "</table>\n",
       "</div>"
      ],
      "text/plain": [
       "Empty DataFrame\n",
       "Columns: [ServiceDate, Run, CostProxy, PctDeadhead]\n",
       "Index: []"
      ]
     },
     "execution_count": 10,
     "metadata": {},
     "output_type": "execute_result"
    }
   ],
   "source": [
    "subset = data[data.Run.isin(eight_runs.Run)]\n",
    "subset = subset[subset.ServiceDate.isin(eight_runs.ServiceDate)]\n",
    "subset.head()"
   ]
  },
  {
   "cell_type": "code",
   "execution_count": 11,
   "metadata": {
    "collapsed": false
   },
   "outputs": [],
   "source": [
    "new_data = pd.read_csv('4mo_deadhead_results.csv')"
   ]
  },
  {
   "cell_type": "code",
   "execution_count": 12,
   "metadata": {
    "collapsed": false
   },
   "outputs": [
    {
     "data": {
      "image/png": "[encoded data removed]",
      "text/plain": [
       "<matplotlib.figure.Figure at 0x113f08dd0>"
      ]
     },
     "metadata": {},
     "output_type": "display_data"
    },
    {
     "data": {
      "image/png": "[encoded data removed]",
      "text/plain": [
       "<matplotlib.figure.Figure at 0x1427e2e50>"
      ]
     },
     "metadata": {},
     "output_type": "display_data"
    }
   ],
   "source": [
    "import matplotlib.pyplot as plt\n",
    "plt.hist(data.PctDeadhead)\n",
    "plt.show()\n",
    "plt.close()\n",
    "plt.plot(data.PctDeadhead, data.CostProxy, 'ro')\n",
    "plt.xlabel('Percent Deadhead')\n",
    "plt.ylabel('Length of Trip / Number of passengers (seconds)')\n",
    "plt.show()\n",
    "plt.close()"
   ]
  },
  {
   "cell_type": "code",
   "execution_count": 13,
   "metadata": {
    "collapsed": false
   },
   "outputs": [
    {
     "data": {
      "text/html": [
       "<div>\n",
       "<table border=\"1\" class=\"dataframe\">\n",
       "  <thead>\n",
       "    <tr style=\"text-align: right;\">\n",
       "      <th></th>\n",
       "      <th>ServiceDate</th>\n",
       "      <th>Run</th>\n",
       "      <th>CostProxy</th>\n",
       "      <th>PctDeadhead</th>\n",
       "    </tr>\n",
       "  </thead>\n",
       "  <tbody>\n",
       "    <tr>\n",
       "      <th>1026</th>\n",
       "      <td>0015-01-09</td>\n",
       "      <td>BD1</td>\n",
       "      <td>10243.000000</td>\n",
       "      <td>0.929806</td>\n",
       "    </tr>\n",
       "    <tr>\n",
       "      <th>1115</th>\n",
       "      <td>0015-03-03</td>\n",
       "      <td>BD3</td>\n",
       "      <td>3120.000000</td>\n",
       "      <td>0.903526</td>\n",
       "    </tr>\n",
       "    <tr>\n",
       "      <th>3754</th>\n",
       "      <td>0015-04-16</td>\n",
       "      <td>6060</td>\n",
       "      <td>3225.000000</td>\n",
       "      <td>0.954625</td>\n",
       "    </tr>\n",
       "    <tr>\n",
       "      <th>13573</th>\n",
       "      <td>0015-04-24</td>\n",
       "      <td>4121</td>\n",
       "      <td>1997.142857</td>\n",
       "      <td>0.922818</td>\n",
       "    </tr>\n",
       "  </tbody>\n",
       "</table>\n",
       "</div>"
      ],
      "text/plain": [
       "      ServiceDate   Run     CostProxy  PctDeadhead\n",
       "1026   0015-01-09   BD1  10243.000000     0.929806\n",
       "1115   0015-03-03   BD3   3120.000000     0.903526\n",
       "3754   0015-04-16  6060   3225.000000     0.954625\n",
       "13573  0015-04-24  4121   1997.142857     0.922818"
      ]
     },
     "execution_count": 13,
     "metadata": {},
     "output_type": "execute_result"
    }
   ],
   "source": [
    "new_data[new_data.PctDeadhead > 0.9]"
   ]
  },
  {
   "cell_type": "code",
   "execution_count": 14,
   "metadata": {
    "collapsed": false
   },
   "outputs": [
    {
     "data": {
      "text/html": [
       "<div>\n",
       "<table border=\"1\" class=\"dataframe\">\n",
       "  <thead>\n",
       "    <tr style=\"text-align: right;\">\n",
       "      <th></th>\n",
       "      <th>ServiceDate</th>\n",
       "      <th>Run</th>\n",
       "      <th>ProviderId</th>\n",
       "      <th>EvOrder</th>\n",
       "      <th>EvId</th>\n",
       "      <th>ReqTime</th>\n",
       "      <th>SchTime</th>\n",
       "      <th>ReqLate</th>\n",
       "      <th>Activity</th>\n",
       "      <th>ETA</th>\n",
       "      <th>...</th>\n",
       "      <th>BookingId</th>\n",
       "      <th>SchedStatus</th>\n",
       "      <th>SubtypeAbbr</th>\n",
       "      <th>FundingSourceId1</th>\n",
       "      <th>PassOn</th>\n",
       "      <th>SpaceOn</th>\n",
       "      <th>PassOff</th>\n",
       "      <th>SpaceOff</th>\n",
       "      <th>ClientId</th>\n",
       "      <th>MobAids</th>\n",
       "    </tr>\n",
       "  </thead>\n",
       "  <tbody>\n",
       "  </tbody>\n",
       "</table>\n",
       "<p>0 rows × 26 columns</p>\n",
       "</div>"
      ],
      "text/plain": [
       "Empty DataFrame\n",
       "Columns: [ServiceDate, Run, ProviderId, EvOrder, EvId, ReqTime, SchTime, ReqLate, Activity, ETA, DwellTime, StreetNo, OnStreet, City, LON, LAT, BookingId, SchedStatus, SubtypeAbbr, FundingSourceId1, PassOn, SpaceOn, PassOff, SpaceOff, ClientId, MobAids]\n",
       "Index: []\n",
       "\n",
       "[0 rows x 26 columns]"
      ]
     },
     "execution_count": 14,
     "metadata": {},
     "output_type": "execute_result"
    }
   ],
   "source": [
    "test = full_data[(full_data.ServiceDate == '0015-04-13') & (full_data.Run == '2021')]\n",
    "test"
   ]
  },
  {
   "cell_type": "code",
   "execution_count": 15,
   "metadata": {
    "collapsed": false
   },
   "outputs": [
    {
     "name": "stdout",
     "output_type": "stream",
     "text": [
      "[]\n",
      "false\n"
     ]
    }
   ],
   "source": [
    "print test.Activity.unique()\n",
    "if 8 in test.Activity.unique(): \n",
    "    print 'true'\n",
    "else:\n",
    "    print 'false'"
   ]
  },
  {
   "cell_type": "code",
   "execution_count": 16,
   "metadata": {
    "collapsed": false,
    "scrolled": true
   },
   "outputs": [
    {
     "data": {
      "text/html": [
       "<div>\n",
       "<table border=\"1\" class=\"dataframe\">\n",
       "  <thead>\n",
       "    <tr style=\"text-align: right;\">\n",
       "      <th></th>\n",
       "      <th>ServiceDate</th>\n",
       "      <th>Run</th>\n",
       "      <th>ProviderId</th>\n",
       "      <th>EvOrder</th>\n",
       "      <th>EvId</th>\n",
       "      <th>ReqTime</th>\n",
       "      <th>SchTime</th>\n",
       "      <th>ReqLate</th>\n",
       "      <th>Activity</th>\n",
       "      <th>ETA</th>\n",
       "      <th>...</th>\n",
       "      <th>BookingId</th>\n",
       "      <th>SchedStatus</th>\n",
       "      <th>SubtypeAbbr</th>\n",
       "      <th>FundingSourceId1</th>\n",
       "      <th>PassOn</th>\n",
       "      <th>SpaceOn</th>\n",
       "      <th>PassOff</th>\n",
       "      <th>SpaceOff</th>\n",
       "      <th>ClientId</th>\n",
       "      <th>MobAids</th>\n",
       "    </tr>\n",
       "  </thead>\n",
       "  <tbody>\n",
       "  </tbody>\n",
       "</table>\n",
       "<p>0 rows × 26 columns</p>\n",
       "</div>"
      ],
      "text/plain": [
       "Empty DataFrame\n",
       "Columns: [ServiceDate, Run, ProviderId, EvOrder, EvId, ReqTime, SchTime, ReqLate, Activity, ETA, DwellTime, StreetNo, OnStreet, City, LON, LAT, BookingId, SchedStatus, SubtypeAbbr, FundingSourceId1, PassOn, SpaceOn, PassOff, SpaceOff, ClientId, MobAids]\n",
       "Index: []\n",
       "\n",
       "[0 rows x 26 columns]"
      ]
     },
     "execution_count": 16,
     "metadata": {},
     "output_type": "execute_result"
    }
   ],
   "source": [
    "full_data[(full_data.ServiceDate == '0015-04-13') & (full_data.Run == 2064)]\n"
   ]
  },
  {
   "cell_type": "code",
   "execution_count": 17,
   "metadata": {
    "collapsed": false
   },
   "outputs": [],
   "source": [
    "brokenruns  = pd.read_csv('../data/4mo_broken_buses.csv', index_col=0)"
   ]
  },
  {
   "cell_type": "code",
   "execution_count": 18,
   "metadata": {
    "collapsed": true
   },
   "outputs": [],
   "source": [
    "import matplotlib.pyplot as plt"
   ]
  }
 ],
 "metadata": {
  "kernelspec": {
   "display_name": "Python [default]",
   "language": "python",
   "name": "python2"
  },
  "language_info": {
   "codemirror_mode": {
    "name": "ipython",
    "version": 2
   },
   "file_extension": ".py",
   "mimetype": "text/x-python",
   "name": "python",
   "nbconvert_exporter": "python",
   "pygments_lexer": "ipython2",
   "version": "2.7.12"
  }
 },
 "nbformat": 4,
 "nbformat_minor": 0
}
