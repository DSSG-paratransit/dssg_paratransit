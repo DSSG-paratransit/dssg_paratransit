{
 "cells": [
  {
   "cell_type": "code",
   "execution_count": 1,
   "metadata": {
    "collapsed": false
   },
   "outputs": [],
   "source": [
    "import os\n",
    "import requests\n",
    "import pandas as pd"
   ]
  },
  {
   "cell_type": "code",
   "execution_count": 2,
   "metadata": {
    "collapsed": false
   },
   "outputs": [
    {
     "data": {
      "text/html": [
       "<div>\n",
       "<table border=\"1\" class=\"dataframe\">\n",
       "  <thead>\n",
       "    <tr style=\"text-align: right;\">\n",
       "      <th></th>\n",
       "      <th>Run</th>\n",
       "      <th>ProviderId</th>\n",
       "      <th>EvOrder</th>\n",
       "      <th>EvId</th>\n",
       "      <th>Activity</th>\n",
       "      <th>ETA</th>\n",
       "      <th>DwellTime</th>\n",
       "      <th>StreetNo</th>\n",
       "      <th>OnStreet</th>\n",
       "      <th>City</th>\n",
       "      <th>...</th>\n",
       "      <th>BookingType</th>\n",
       "      <th>FundingSourceId1</th>\n",
       "      <th>PassOn</th>\n",
       "      <th>PassOff</th>\n",
       "      <th>ClientId</th>\n",
       "      <th>SpaceOn</th>\n",
       "      <th>SpaceOff</th>\n",
       "      <th>ReqLate</th>\n",
       "      <th>SchTime</th>\n",
       "      <th>MobAids</th>\n",
       "    </tr>\n",
       "  </thead>\n",
       "  <tbody>\n",
       "    <tr>\n",
       "      <th>0</th>\n",
       "      <td>180SEB</td>\n",
       "      <td>5.0</td>\n",
       "      <td>1.0</td>\n",
       "      <td>1145.0</td>\n",
       "      <td>4</td>\n",
       "      <td>42418.0</td>\n",
       "      <td>0.0</td>\n",
       "      <td>2000</td>\n",
       "      <td>118TH AVE SE</td>\n",
       "      <td>BELLEVUE</td>\n",
       "      <td>...</td>\n",
       "      <td>NaN</td>\n",
       "      <td>NaN</td>\n",
       "      <td>NaN</td>\n",
       "      <td>NaN</td>\n",
       "      <td>NaN</td>\n",
       "      <td>NaN</td>\n",
       "      <td>NaN</td>\n",
       "      <td>-1.0</td>\n",
       "      <td>43200.0</td>\n",
       "      <td>NaN</td>\n",
       "    </tr>\n",
       "    <tr>\n",
       "      <th>1</th>\n",
       "      <td>180SEB</td>\n",
       "      <td>5.0</td>\n",
       "      <td>7497221.0</td>\n",
       "      <td>19483.0</td>\n",
       "      <td>0</td>\n",
       "      <td>43551.0</td>\n",
       "      <td>180.0</td>\n",
       "      <td>13451</td>\n",
       "      <td>SE 36TH ST</td>\n",
       "      <td>BELLEVUE</td>\n",
       "      <td>...</td>\n",
       "      <td>C</td>\n",
       "      <td>1.0</td>\n",
       "      <td>CLI1</td>\n",
       "      <td>NaN</td>\n",
       "      <td>102229.0</td>\n",
       "      <td>AM1</td>\n",
       "      <td>NaN</td>\n",
       "      <td>-1.0</td>\n",
       "      <td>44100.0</td>\n",
       "      <td>V1,WK</td>\n",
       "    </tr>\n",
       "    <tr>\n",
       "      <th>2</th>\n",
       "      <td>180SEB</td>\n",
       "      <td>5.0</td>\n",
       "      <td>7907553.0</td>\n",
       "      <td>23292.0</td>\n",
       "      <td>0</td>\n",
       "      <td>45017.0</td>\n",
       "      <td>180.0</td>\n",
       "      <td>3000</td>\n",
       "      <td>LANDERHOLM CIR SE</td>\n",
       "      <td>BELLEVUE</td>\n",
       "      <td>...</td>\n",
       "      <td>C</td>\n",
       "      <td>1.0</td>\n",
       "      <td>CLI1</td>\n",
       "      <td>NaN</td>\n",
       "      <td>103990.0</td>\n",
       "      <td>AM1</td>\n",
       "      <td>NaN</td>\n",
       "      <td>-1.0</td>\n",
       "      <td>45900.0</td>\n",
       "      <td>CA,LI,V1</td>\n",
       "    </tr>\n",
       "    <tr>\n",
       "      <th>3</th>\n",
       "      <td>180SEB</td>\n",
       "      <td>5.0</td>\n",
       "      <td>8215306.0</td>\n",
       "      <td>23394.0</td>\n",
       "      <td>1</td>\n",
       "      <td>45613.0</td>\n",
       "      <td>120.0</td>\n",
       "      <td>3843</td>\n",
       "      <td>166TH AVE SE</td>\n",
       "      <td>BELLEVUE</td>\n",
       "      <td>...</td>\n",
       "      <td>C</td>\n",
       "      <td>1.0</td>\n",
       "      <td>NaN</td>\n",
       "      <td>CLI1</td>\n",
       "      <td>103990.0</td>\n",
       "      <td>NaN</td>\n",
       "      <td>AM1</td>\n",
       "      <td>-1.0</td>\n",
       "      <td>-1.0</td>\n",
       "      <td>CA,LI,V1</td>\n",
       "    </tr>\n",
       "    <tr>\n",
       "      <th>4</th>\n",
       "      <td>180SEB</td>\n",
       "      <td>5.0</td>\n",
       "      <td>9138510.0</td>\n",
       "      <td>19589.0</td>\n",
       "      <td>1</td>\n",
       "      <td>46534.0</td>\n",
       "      <td>120.0</td>\n",
       "      <td>6082</td>\n",
       "      <td>167TH AVE SE</td>\n",
       "      <td>BELLEVUE</td>\n",
       "      <td>...</td>\n",
       "      <td>C</td>\n",
       "      <td>1.0</td>\n",
       "      <td>NaN</td>\n",
       "      <td>CLI1</td>\n",
       "      <td>102229.0</td>\n",
       "      <td>NaN</td>\n",
       "      <td>AM1</td>\n",
       "      <td>-1.0</td>\n",
       "      <td>-1.0</td>\n",
       "      <td>V1,WK</td>\n",
       "    </tr>\n",
       "  </tbody>\n",
       "</table>\n",
       "<p>5 rows × 25 columns</p>\n",
       "</div>"
      ],
      "text/plain": [
       "      Run  ProviderId    EvOrder     EvId  Activity      ETA  DwellTime  \\\n",
       "0  180SEB         5.0        1.0   1145.0         4  42418.0        0.0   \n",
       "1  180SEB         5.0  7497221.0  19483.0         0  43551.0      180.0   \n",
       "2  180SEB         5.0  7907553.0  23292.0         0  45017.0      180.0   \n",
       "3  180SEB         5.0  8215306.0  23394.0         1  45613.0      120.0   \n",
       "4  180SEB         5.0  9138510.0  19589.0         1  46534.0      120.0   \n",
       "\n",
       "  StreetNo           OnStreet      City    ...     BookingType  \\\n",
       "0     2000       118TH AVE SE  BELLEVUE    ...             NaN   \n",
       "1    13451         SE 36TH ST  BELLEVUE    ...               C   \n",
       "2     3000  LANDERHOLM CIR SE  BELLEVUE    ...               C   \n",
       "3     3843       166TH AVE SE  BELLEVUE    ...               C   \n",
       "4     6082       167TH AVE SE  BELLEVUE    ...               C   \n",
       "\n",
       "   FundingSourceId1  PassOn  PassOff  ClientId SpaceOn  SpaceOff ReqLate  \\\n",
       "0               NaN     NaN      NaN       NaN     NaN       NaN    -1.0   \n",
       "1               1.0    CLI1      NaN  102229.0     AM1       NaN    -1.0   \n",
       "2               1.0    CLI1      NaN  103990.0     AM1       NaN    -1.0   \n",
       "3               1.0     NaN     CLI1  103990.0     NaN       AM1    -1.0   \n",
       "4               1.0     NaN     CLI1  102229.0     NaN       AM1    -1.0   \n",
       "\n",
       "   SchTime   MobAids  \n",
       "0  43200.0       NaN  \n",
       "1  44100.0     V1,WK  \n",
       "2  45900.0  CA,LI,V1  \n",
       "3     -1.0  CA,LI,V1  \n",
       "4     -1.0     V1,WK  \n",
       "\n",
       "[5 rows x 25 columns]"
      ]
     },
     "execution_count": 2,
     "metadata": {},
     "output_type": "execute_result"
    }
   ],
   "source": [
    "URID_location = pd.read_csv(\"../../System_Recovery/webapp/data/qc_streaming_DEMO.csv\")\n",
    "URID_location.head()"
   ]
  },
  {
   "cell_type": "code",
   "execution_count": 3,
   "metadata": {
    "collapsed": false
   },
   "outputs": [
    {
     "data": {
      "text/html": [
       "<div>\n",
       "<table border=\"1\" class=\"dataframe\">\n",
       "  <thead>\n",
       "    <tr style=\"text-align: right;\">\n",
       "      <th></th>\n",
       "      <th>LON</th>\n",
       "      <th>LAT</th>\n",
       "    </tr>\n",
       "  </thead>\n",
       "  <tbody>\n",
       "    <tr>\n",
       "      <th>0</th>\n",
       "      <td>-122.182881</td>\n",
       "      <td>47.591642</td>\n",
       "    </tr>\n",
       "    <tr>\n",
       "      <th>1</th>\n",
       "      <td>-122.160469</td>\n",
       "      <td>47.579469</td>\n",
       "    </tr>\n",
       "    <tr>\n",
       "      <th>2</th>\n",
       "      <td>-122.147938</td>\n",
       "      <td>47.584411</td>\n",
       "    </tr>\n",
       "    <tr>\n",
       "      <th>3</th>\n",
       "      <td>-122.118146</td>\n",
       "      <td>47.575759</td>\n",
       "    </tr>\n",
       "    <tr>\n",
       "      <th>4</th>\n",
       "      <td>-122.116614</td>\n",
       "      <td>47.548175</td>\n",
       "    </tr>\n",
       "  </tbody>\n",
       "</table>\n",
       "</div>"
      ],
      "text/plain": [
       "          LON        LAT\n",
       "0 -122.182881  47.591642\n",
       "1 -122.160469  47.579469\n",
       "2 -122.147938  47.584411\n",
       "3 -122.118146  47.575759\n",
       "4 -122.116614  47.548175"
      ]
     },
     "execution_count": 3,
     "metadata": {},
     "output_type": "execute_result"
    }
   ],
   "source": [
    "URID_location[[\"LON\",\"LAT\"]].head()"
   ]
  },
  {
   "cell_type": "code",
   "execution_count": 4,
   "metadata": {
    "collapsed": false
   },
   "outputs": [
    {
     "name": "stdout",
     "output_type": "stream",
     "text": [
      "47.591642\n",
      "-122.182881\n"
     ]
    }
   ],
   "source": [
    "urid_LAT = URID_location[\"LAT\"][0]\n",
    "urid_LON = URID_location[\"LON\"][0]\n",
    "print(urid_LAT)\n",
    "print(urid_LON)"
   ]
  },
  {
   "cell_type": "code",
   "execution_count": 5,
   "metadata": {
    "collapsed": false
   },
   "outputs": [],
   "source": [
    "total_times = []\n",
    "out_start_points = []\n",
    "out_end_points = []\n",
    "in_total_time = []\n",
    "in_start_points = []\n",
    "in_end_points = []\n",
    "osrm_url = \"http://router.project-osrm.org/route/v1/driving/\"\n",
    "route_url = osrm_url + str(URID_location[\"LON\"][1]) + \",\" + str(URID_location[\"LAT\"][1]) + \";\" + str(urid_LON) + \",\" + str(urid_LAT) + \";\" + str(URID_location[\"LON\"][2]) + \",\" + str(URID_location[\"LAT\"][2]) + \"?overview=false\"\n",
    "route_requests = requests.get(route_url)\n",
    "route_results = route_requests.json()"
   ]
  },
  {
   "cell_type": "code",
   "execution_count": 6,
   "metadata": {
    "collapsed": false
   },
   "outputs": [
    {
     "data": {
      "text/plain": [
       "[u'routes', u'code', u'waypoints']"
      ]
     },
     "execution_count": 6,
     "metadata": {},
     "output_type": "execute_result"
    }
   ],
   "source": [
    "route_results.keys()"
   ]
  },
  {
   "cell_type": "code",
   "execution_count": 7,
   "metadata": {
    "collapsed": false,
    "scrolled": true
   },
   "outputs": [
    {
     "data": {
      "text/plain": [
       "'http://router.project-osrm.org/route/v1/driving/-122.160469,47.579469;-122.182881,47.591642;-122.147938,47.584411?overview=false'"
      ]
     },
     "execution_count": 7,
     "metadata": {},
     "output_type": "execute_result"
    }
   ],
   "source": [
    "route_url"
   ]
  },
  {
   "cell_type": "code",
   "execution_count": 8,
   "metadata": {
    "collapsed": false
   },
   "outputs": [
    {
     "data": {
      "text/plain": [
       "[{u'distance': 12892.9,\n",
       "  u'duration': 1014.7,\n",
       "  u'legs': [{u'distance': 5854.8,\n",
       "    u'duration': 484,\n",
       "    u'steps': [],\n",
       "    u'summary': u''},\n",
       "   {u'distance': 7038.1, u'duration': 530.7, u'steps': [], u'summary': u''}]}]"
      ]
     },
     "execution_count": 8,
     "metadata": {},
     "output_type": "execute_result"
    }
   ],
   "source": [
    "route_results['routes']"
   ]
  },
  {
   "cell_type": "code",
   "execution_count": 9,
   "metadata": {
    "collapsed": false
   },
   "outputs": [
    {
     "data": {
      "text/plain": [
       "1014.7"
      ]
     },
     "execution_count": 9,
     "metadata": {},
     "output_type": "execute_result"
    }
   ],
   "source": [
    "route_results['routes'][0]['duration']"
   ]
  },
  {
   "cell_type": "code",
   "execution_count": 10,
   "metadata": {
    "collapsed": true
   },
   "outputs": [],
   "source": [
    "lat1 = URID_location[\"LAT\"][1]\n",
    "lon1 = URID_location[\"LON\"][1] \n",
    "lat2 = URID_location[\"LAT\"][2] \n",
    "lon2 = URID_location[\"LON\"][1]"
   ]
  },
  {
   "cell_type": "code",
   "execution_count": 11,
   "metadata": {
    "collapsed": true
   },
   "outputs": [],
   "source": [
    "def getOSRMOutput (lat1, lon1, lat2, lon2):\n",
    "\n",
    "    \"\"\"\n",
    "\n",
    "    Args:\n",
    "        lat1/lon1 (float): first lat/lon pair (start point)\n",
    "        lat2/lon2 (float): second lat/lon pair (end point)\n",
    "\n",
    "    Returns:\n",
    "        json object containing data about traveling between two pairs\n",
    "    \"\"\"\n",
    "\n",
    "    osrm_url = \"http://router.project-osrm.org/route/v1/driving/\"\n",
    "    #route_url = osrm_url + str(lat1) + \",\" + str(lon1)\n",
    "    #route_url = route_url + \";\" + str(lat2) + \",\" + str(lon2) + \"?overview=false\"\n",
    "    route_url = osrm_url + str(lon1) + \",\" + str(lat1)\n",
    "    route_url = route_url + \";\" + str(lon2) + \",\" + str(lat2) + \"?overview=false\"\n",
    "    #print route_url\n",
    "    route_requests = requests.get(route_url)\n",
    "    route_results = route_requests.json()\n",
    "    #print route_results\n",
    "    return route_results\n",
    "\n"
   ]
  },
  {
   "cell_type": "code",
   "execution_count": 12,
   "metadata": {
    "collapsed": false
   },
   "outputs": [],
   "source": [
    "route_results_test = getOSRMOutput(lat1, lon1, lat2, lon2)"
   ]
  },
  {
   "cell_type": "code",
   "execution_count": 13,
   "metadata": {
    "collapsed": false
   },
   "outputs": [
    {
     "data": {
      "text/plain": [
       "{u'code': u'Ok',\n",
       " u'routes': [{u'distance': 1590.2,\n",
       "   u'duration': 149.5,\n",
       "   u'legs': [{u'distance': 1590.2,\n",
       "     u'duration': 149.5,\n",
       "     u'steps': [],\n",
       "     u'summary': u''}]}],\n",
       " u'waypoints': [{u'hint': u'Z898gGrPfIAHugsAXgAAACsBAAAxAAAAAAAAAKrVdQCr1XUA6uQAAKv6t_hJAdYCq_q3-E0B1gIBAAEBr60tjA==',\n",
       "   u'location': [-122.160469, 47.579465],\n",
       "   u'name': u'Southeast 36th Street'},\n",
       "  {u'hint': u'Nh3JijodyYp6VQwADwAAADEAAAAAAAAAAAAAABQ3Ig4TNyIO6uQAAJ76t_gKEtYCq_q3-JsU1gIAAAEBr60tjA==',\n",
       "   u'location': [-122.160482, 47.583754],\n",
       "   u'name': u'Southeast 30th Street'}]}"
      ]
     },
     "execution_count": 13,
     "metadata": {},
     "output_type": "execute_result"
    }
   ],
   "source": [
    "route_results_test"
   ]
  },
  {
   "cell_type": "code",
   "execution_count": 14,
   "metadata": {
    "collapsed": false
   },
   "outputs": [
    {
     "data": {
      "text/plain": [
       "1590.2"
      ]
     },
     "execution_count": 14,
     "metadata": {},
     "output_type": "execute_result"
    }
   ],
   "source": [
    "total_dist_test = route_results_test[u'routes'][0][u'distance']\n",
    "total_dist_test"
   ]
  },
  {
   "cell_type": "code",
   "execution_count": 15,
   "metadata": {
    "collapsed": true
   },
   "outputs": [],
   "source": [
    "def mileage (lat1, lon1, lat2, lon2):\n",
    "\n",
    "    \"\"\"\n",
    "    Used to find mileage for taxi function.\n",
    "\n",
    "    Args:\n",
    "        lat1/lon1 (float): first lat/lon pair (start point)\n",
    "        lat2/lon2 (float): second lat/lon pair (end point)\n",
    "\n",
    "    Returns:\n",
    "        total street network distance between pairs\n",
    "    \"\"\"\n",
    "\n",
    "    route_results = getOSRMOutput(lat1, lon1, lat2, lon2)\n",
    "    total_dist = route_results[u'routes'][0][u'distance']\n",
    "    #print total_dist\n",
    "    return(total_dist)\n",
    "\n"
   ]
  },
  {
   "cell_type": "code",
   "execution_count": 16,
   "metadata": {
    "collapsed": false
   },
   "outputs": [
    {
     "data": {
      "text/plain": [
       "1590.2"
      ]
     },
     "execution_count": 16,
     "metadata": {},
     "output_type": "execute_result"
    }
   ],
   "source": [
    "milage_test = mileage(lat1, lon1, lat2, lon2)\n",
    "milage_test"
   ]
  },
  {
   "cell_type": "code",
   "execution_count": 17,
   "metadata": {
    "collapsed": true
   },
   "outputs": [],
   "source": [
    "def travel_time (lat1, lon1, lat2, lon2):\n",
    "\n",
    "    \"\"\"\n",
    "\n",
    "    Args:\n",
    "        lat1/lon1 (float): first lat/lon pair (start point)\n",
    "        lat2/lon2 (float): second lat/lon pair (end point)\n",
    "\n",
    "    Returns:\n",
    "        total non traffic time it takes to get between two pairs of lat/lon\n",
    "    \"\"\"\n",
    "\n",
    "    route_results = getOSRMOutput(lat1, lon1, lat2, lon2)\n",
    "    total_time = route_results[u'routes'][0][u'duration']\n",
    "    # print total_time\n",
    "    return(total_time)\n"
   ]
  },
  {
   "cell_type": "code",
   "execution_count": 18,
   "metadata": {
    "collapsed": false
   },
   "outputs": [
    {
     "data": {
      "text/plain": [
       "149.5"
      ]
     },
     "execution_count": 18,
     "metadata": {},
     "output_type": "execute_result"
    }
   ],
   "source": [
    "travel_test = travel_time(lat1, lon1, lat2, lon2)\n",
    "travel_test"
   ]
  }
 ],
 "metadata": {
  "anaconda-cloud": {},
  "kernelspec": {
   "display_name": "Python [default]",
   "language": "python",
   "name": "python2"
  },
  "language_info": {
   "codemirror_mode": {
    "name": "ipython",
    "version": 2
   },
   "file_extension": ".py",
   "mimetype": "text/x-python",
   "name": "python",
   "nbconvert_exporter": "python",
   "pygments_lexer": "ipython2",
   "version": "2.7.12"
  }
 },
 "nbformat": 4,
 "nbformat_minor": 1
}
